{
 "cells": [
  {
   "cell_type": "markdown",
   "metadata": {
    "id": "yl2llxDtLQIa"
   },
   "source": [
    "\n",
    "## Sign Language Image Classification using Deep Learning"
   ]
  },
  {
   "cell_type": "markdown",
   "metadata": {
    "id": "VkiWUOe8LQIb"
   },
   "source": [
    "## Overview\n",
    "\n",
    "In this project you will implement different deep learning networks to classify images of hands in poses that correspond to letters in American Sign Language. The dataset is contained in the assignment zip file, along with some images and a text file describing the dataset. It is similar in many ways to other MNIST datasets.\n",
    "\n",
    "The main aims of the project are:\n",
    "\n",
    " - To implement and train different types of deep learning network;\n",
    "\n",
    " - To systematically optimise the architecture and parameters of the networks;\n",
    "  \n",
    " - To explore over-fitting and know what appropriate actions to take in these cases.\n"
   ]
  },
  {
   "cell_type": "markdown",
   "metadata": {
    "id": "TumCKXmqLQIb"
   },
   "source": [
    "## Scenario\n",
    "\n",
    "A client is interested in having you (or rather the company that you work for) investigate whether it is possible to develop an app that would enable American sign language to be translated for people that do not sign, or those that sign in different languages/styles. They have provided you with a labelled data of images related to signs (hand positions) that represent individual letters in order to do a preliminary test of feasibility.\n",
    "\n",
    "Your manager has asked you to do this feasibility assessment, but subject to a constraint on the computational facilities available.  More specifically, you are asked to do **no more than 50 training runs in total** (including all models and hyperparameter settings that you consider).  \n",
    "\n",
    "In addition, you are told to **create a validation set and any necessary test sets using _only_ the supplied testing dataset.** It is unusual to do this, but here the training set contains a lot of non-independent, augmented images and it is important that the validation images must be totally independent of the training data and not made from augmented instances of training images.\n",
    "\n",
    "The clients have asked to be informed about the following:\n",
    " - **unbiased accuracy** estimate of a deep learning model (since DL models are fast when deployed)\n",
    " - the letter with the lowest individual accuracy\n",
    " - the most common error (of one letter being incorrectly labelled as another)\n",
    "\n",
    "Your manager has asked you to create a jupyter notebook that shows the following:\n",
    " - loading the data, checking it, fixing any problems, and displaying a sample\n",
    " - training and optimising both **densely connected** *and* **CNN** style models\n",
    " - finding the best one, subject to a rapid turn-around and corresponding limit of 50 training runs in total\n",
    " - reporting clearly what networks you have tried, the method you used to optimise them, the associated learning curves, their summary performance and selection process to pick the best model\n",
    "     - this should be clear enough that another employee, with your skillset, should be able to take over from you and understand your methods\n",
    " - results from the model that is selected as the best, showing the information that the clients have requested\n",
    " - a statistical test between the best and second-best models, to see if there is any significant difference in performance (overall accuracy)\n",
    " - it is hoped that the accuracy will exceed 96% overall and better than 90% for every individual letter, and you are asked to:\n",
    "     - report the overall accuracy\n",
    "     - report the accuracy for each individual letter\n",
    "     - write a short recommendation regarding how likely you think it is to achieve these goals either with the current model or by continuing to do a small amount of model development/optimisation\n"
   ]
  },
  {
   "cell_type": "code",
   "execution_count": null,
   "metadata": {
    "id": "OGnoGB-5Bs_d"
   },
   "outputs": [],
   "source": [
    "# Python ≥3.5 is required\n",
    "import sys\n",
    "assert sys.version_info >= (3, 5)\n",
    "\n",
    "# Scikit-Learn ≥0.20 is required\n",
    "import sklearn\n",
    "assert sklearn.__version__ >= \"0.20\"\n",
    "\n",
    "# Common imports\n",
    "import numpy as np\n",
    "import os, time\n",
    "import pandas as pd\n",
    "\n",
    "# Deep Learning imports\n",
    "import tensorflow as tf\n",
    "from tensorflow import keras\n",
    "\n",
    "# To plot nice figures\n",
    "%matplotlib inline\n",
    "import matplotlib as mpl\n",
    "import matplotlib.pyplot as plt\n",
    "mpl.rc('axes', labelsize=14)\n",
    "mpl.rc('xtick', labelsize=12)\n",
    "mpl.rc('ytick', labelsize=12)\n",
    "mpl.rc('figure', dpi=100)\n",
    "import seaborn as sns; sns.set()"
   ]
  },
  {
   "cell_type": "code",
   "execution_count": null,
   "metadata": {
    "colab": {
     "base_uri": "https://localhost:8080/"
    },
    "id": "VAXyoT0yoI-f",
    "outputId": "83389264-8552-4311-911d-1be6404af377"
   },
   "outputs": [],
   "source": [
    "from google.colab import drive\n",
    "drive.mount('/content/drive')"
   ]
  },
  {
   "cell_type": "markdown",
   "metadata": {
    "id": "JGucfVIKHy_H"
   },
   "source": [
    "## Data Cleaning and Exploratory Data Analysis"
   ]
  },
  {
   "cell_type": "markdown",
   "metadata": {
    "id": "Q-lpOFM8m_Dl"
   },
   "source": [
    "### Load *Data*"
   ]
  },
  {
   "cell_type": "code",
   "execution_count": null,
   "metadata": {
    "id": "2hJfL1wyLQIc"
   },
   "outputs": [],
   "source": [
    "import pandas as pd\n",
    "\n",
    "# Load the training data from a CSV file\n",
    "train_data = pd.read_csv('/content/drive/MyDrive/Assignment_3(1)/sign_mnist_train.csv')\n",
    "\n",
    "# Load the test data from a CSV file\n",
    "test_data = pd.read_csv('/content/drive/MyDrive/Assignment_3(1)/sign_mnist_test.csv')"
   ]
  },
  {
   "cell_type": "markdown",
   "metadata": {
    "id": "FM85W8kSnodU"
   },
   "source": [
    "### Investigate Data"
   ]
  },
  {
   "cell_type": "code",
   "execution_count": null,
   "metadata": {
    "colab": {
     "base_uri": "https://localhost:8080/",
     "height": 300
    },
    "id": "lCPw-dhRQdal",
    "outputId": "80eaedc0-2bff-4a42-e61d-515d781f855f"
   },
   "outputs": [
    {
     "data": {
      "text/html": [
       "\n",
       "\n",
       "  <div id=\"df-1c7ba582-dd4c-4194-988f-28869a1152c0\">\n",
       "    <div class=\"colab-df-container\">\n",
       "      <div>\n",
       "<style scoped>\n",
       "    .dataframe tbody tr th:only-of-type {\n",
       "        vertical-align: middle;\n",
       "    }\n",
       "\n",
       "    .dataframe tbody tr th {\n",
       "        vertical-align: top;\n",
       "    }\n",
       "\n",
       "    .dataframe thead th {\n",
       "        text-align: right;\n",
       "    }\n",
       "</style>\n",
       "<table border=\"1\" class=\"dataframe\">\n",
       "  <thead>\n",
       "    <tr style=\"text-align: right;\">\n",
       "      <th></th>\n",
       "      <th>label</th>\n",
       "      <th>pixel1</th>\n",
       "      <th>pixel2</th>\n",
       "      <th>pixel3</th>\n",
       "      <th>pixel4</th>\n",
       "      <th>pixel5</th>\n",
       "      <th>pixel6</th>\n",
       "      <th>pixel7</th>\n",
       "      <th>pixel8</th>\n",
       "      <th>pixel9</th>\n",
       "      <th>...</th>\n",
       "      <th>pixel775</th>\n",
       "      <th>pixel776</th>\n",
       "      <th>pixel777</th>\n",
       "      <th>pixel778</th>\n",
       "      <th>pixel779</th>\n",
       "      <th>pixel780</th>\n",
       "      <th>pixel781</th>\n",
       "      <th>pixel782</th>\n",
       "      <th>pixel783</th>\n",
       "      <th>pixel784</th>\n",
       "    </tr>\n",
       "  </thead>\n",
       "  <tbody>\n",
       "    <tr>\n",
       "      <th>0</th>\n",
       "      <td>3</td>\n",
       "      <td>107</td>\n",
       "      <td>118</td>\n",
       "      <td>127</td>\n",
       "      <td>134</td>\n",
       "      <td>139</td>\n",
       "      <td>143</td>\n",
       "      <td>146</td>\n",
       "      <td>150</td>\n",
       "      <td>153</td>\n",
       "      <td>...</td>\n",
       "      <td>207</td>\n",
       "      <td>207</td>\n",
       "      <td>207</td>\n",
       "      <td>207</td>\n",
       "      <td>206</td>\n",
       "      <td>206</td>\n",
       "      <td>206</td>\n",
       "      <td>204</td>\n",
       "      <td>203</td>\n",
       "      <td>202</td>\n",
       "    </tr>\n",
       "    <tr>\n",
       "      <th>1</th>\n",
       "      <td>6</td>\n",
       "      <td>155</td>\n",
       "      <td>157</td>\n",
       "      <td>156</td>\n",
       "      <td>156</td>\n",
       "      <td>156</td>\n",
       "      <td>157</td>\n",
       "      <td>156</td>\n",
       "      <td>158</td>\n",
       "      <td>158</td>\n",
       "      <td>...</td>\n",
       "      <td>69</td>\n",
       "      <td>149</td>\n",
       "      <td>128</td>\n",
       "      <td>87</td>\n",
       "      <td>94</td>\n",
       "      <td>163</td>\n",
       "      <td>175</td>\n",
       "      <td>103</td>\n",
       "      <td>135</td>\n",
       "      <td>149</td>\n",
       "    </tr>\n",
       "    <tr>\n",
       "      <th>2</th>\n",
       "      <td>2</td>\n",
       "      <td>187</td>\n",
       "      <td>188</td>\n",
       "      <td>188</td>\n",
       "      <td>187</td>\n",
       "      <td>187</td>\n",
       "      <td>186</td>\n",
       "      <td>187</td>\n",
       "      <td>188</td>\n",
       "      <td>187</td>\n",
       "      <td>...</td>\n",
       "      <td>202</td>\n",
       "      <td>201</td>\n",
       "      <td>200</td>\n",
       "      <td>199</td>\n",
       "      <td>198</td>\n",
       "      <td>199</td>\n",
       "      <td>198</td>\n",
       "      <td>195</td>\n",
       "      <td>194</td>\n",
       "      <td>195</td>\n",
       "    </tr>\n",
       "    <tr>\n",
       "      <th>3</th>\n",
       "      <td>2</td>\n",
       "      <td>211</td>\n",
       "      <td>211</td>\n",
       "      <td>212</td>\n",
       "      <td>212</td>\n",
       "      <td>211</td>\n",
       "      <td>210</td>\n",
       "      <td>211</td>\n",
       "      <td>210</td>\n",
       "      <td>210</td>\n",
       "      <td>...</td>\n",
       "      <td>235</td>\n",
       "      <td>234</td>\n",
       "      <td>233</td>\n",
       "      <td>231</td>\n",
       "      <td>230</td>\n",
       "      <td>226</td>\n",
       "      <td>225</td>\n",
       "      <td>222</td>\n",
       "      <td>229</td>\n",
       "      <td>163</td>\n",
       "    </tr>\n",
       "    <tr>\n",
       "      <th>4</th>\n",
       "      <td>13</td>\n",
       "      <td>164</td>\n",
       "      <td>167</td>\n",
       "      <td>170</td>\n",
       "      <td>172</td>\n",
       "      <td>176</td>\n",
       "      <td>179</td>\n",
       "      <td>180</td>\n",
       "      <td>184</td>\n",
       "      <td>185</td>\n",
       "      <td>...</td>\n",
       "      <td>92</td>\n",
       "      <td>105</td>\n",
       "      <td>105</td>\n",
       "      <td>108</td>\n",
       "      <td>133</td>\n",
       "      <td>163</td>\n",
       "      <td>157</td>\n",
       "      <td>163</td>\n",
       "      <td>164</td>\n",
       "      <td>179</td>\n",
       "    </tr>\n",
       "  </tbody>\n",
       "</table>\n",
       "<p>5 rows × 785 columns</p>\n",
       "</div>\n",
       "      <button class=\"colab-df-convert\" onclick=\"convertToInteractive('df-1c7ba582-dd4c-4194-988f-28869a1152c0')\"\n",
       "              title=\"Convert this dataframe to an interactive table.\"\n",
       "              style=\"display:none;\">\n",
       "\n",
       "  <svg xmlns=\"http://www.w3.org/2000/svg\" height=\"24px\"viewBox=\"0 0 24 24\"\n",
       "       width=\"24px\">\n",
       "    <path d=\"M0 0h24v24H0V0z\" fill=\"none\"/>\n",
       "    <path d=\"M18.56 5.44l.94 2.06.94-2.06 2.06-.94-2.06-.94-.94-2.06-.94 2.06-2.06.94zm-11 1L8.5 8.5l.94-2.06 2.06-.94-2.06-.94L8.5 2.5l-.94 2.06-2.06.94zm10 10l.94 2.06.94-2.06 2.06-.94-2.06-.94-.94-2.06-.94 2.06-2.06.94z\"/><path d=\"M17.41 7.96l-1.37-1.37c-.4-.4-.92-.59-1.43-.59-.52 0-1.04.2-1.43.59L10.3 9.45l-7.72 7.72c-.78.78-.78 2.05 0 2.83L4 21.41c.39.39.9.59 1.41.59.51 0 1.02-.2 1.41-.59l7.78-7.78 2.81-2.81c.8-.78.8-2.07 0-2.86zM5.41 20L4 18.59l7.72-7.72 1.47 1.35L5.41 20z\"/>\n",
       "  </svg>\n",
       "      </button>\n",
       "\n",
       "\n",
       "\n",
       "    <div id=\"df-b61e9414-bc73-46c0-914d-02798e1b5ab4\">\n",
       "      <button class=\"colab-df-quickchart\" onclick=\"quickchart('df-b61e9414-bc73-46c0-914d-02798e1b5ab4')\"\n",
       "              title=\"Suggest charts.\"\n",
       "              style=\"display:none;\">\n",
       "\n",
       "<svg xmlns=\"http://www.w3.org/2000/svg\" height=\"24px\"viewBox=\"0 0 24 24\"\n",
       "     width=\"24px\">\n",
       "    <g>\n",
       "        <path d=\"M19 3H5c-1.1 0-2 .9-2 2v14c0 1.1.9 2 2 2h14c1.1 0 2-.9 2-2V5c0-1.1-.9-2-2-2zM9 17H7v-7h2v7zm4 0h-2V7h2v10zm4 0h-2v-4h2v4z\"/>\n",
       "    </g>\n",
       "</svg>\n",
       "      </button>\n",
       "    </div>\n",
       "\n",
       "<style>\n",
       "  .colab-df-quickchart {\n",
       "    background-color: #E8F0FE;\n",
       "    border: none;\n",
       "    border-radius: 50%;\n",
       "    cursor: pointer;\n",
       "    display: none;\n",
       "    fill: #1967D2;\n",
       "    height: 32px;\n",
       "    padding: 0 0 0 0;\n",
       "    width: 32px;\n",
       "  }\n",
       "\n",
       "  .colab-df-quickchart:hover {\n",
       "    background-color: #E2EBFA;\n",
       "    box-shadow: 0px 1px 2px rgba(60, 64, 67, 0.3), 0px 1px 3px 1px rgba(60, 64, 67, 0.15);\n",
       "    fill: #174EA6;\n",
       "  }\n",
       "\n",
       "  [theme=dark] .colab-df-quickchart {\n",
       "    background-color: #3B4455;\n",
       "    fill: #D2E3FC;\n",
       "  }\n",
       "\n",
       "  [theme=dark] .colab-df-quickchart:hover {\n",
       "    background-color: #434B5C;\n",
       "    box-shadow: 0px 1px 3px 1px rgba(0, 0, 0, 0.15);\n",
       "    filter: drop-shadow(0px 1px 2px rgba(0, 0, 0, 0.3));\n",
       "    fill: #FFFFFF;\n",
       "  }\n",
       "</style>\n",
       "\n",
       "    <script>\n",
       "      async function quickchart(key) {\n",
       "        const containerElement = document.querySelector('#' + key);\n",
       "        const charts = await google.colab.kernel.invokeFunction(\n",
       "            'suggestCharts', [key], {});\n",
       "      }\n",
       "    </script>\n",
       "\n",
       "\n",
       "      <script>\n",
       "\n",
       "function displayQuickchartButton(domScope) {\n",
       "  let quickchartButtonEl =\n",
       "    domScope.querySelector('#df-b61e9414-bc73-46c0-914d-02798e1b5ab4 button.colab-df-quickchart');\n",
       "  quickchartButtonEl.style.display =\n",
       "    google.colab.kernel.accessAllowed ? 'block' : 'none';\n",
       "}\n",
       "\n",
       "        displayQuickchartButton(document);\n",
       "      </script>\n",
       "      <style>\n",
       "    .colab-df-container {\n",
       "      display:flex;\n",
       "      flex-wrap:wrap;\n",
       "      gap: 12px;\n",
       "    }\n",
       "\n",
       "    .colab-df-convert {\n",
       "      background-color: #E8F0FE;\n",
       "      border: none;\n",
       "      border-radius: 50%;\n",
       "      cursor: pointer;\n",
       "      display: none;\n",
       "      fill: #1967D2;\n",
       "      height: 32px;\n",
       "      padding: 0 0 0 0;\n",
       "      width: 32px;\n",
       "    }\n",
       "\n",
       "    .colab-df-convert:hover {\n",
       "      background-color: #E2EBFA;\n",
       "      box-shadow: 0px 1px 2px rgba(60, 64, 67, 0.3), 0px 1px 3px 1px rgba(60, 64, 67, 0.15);\n",
       "      fill: #174EA6;\n",
       "    }\n",
       "\n",
       "    [theme=dark] .colab-df-convert {\n",
       "      background-color: #3B4455;\n",
       "      fill: #D2E3FC;\n",
       "    }\n",
       "\n",
       "    [theme=dark] .colab-df-convert:hover {\n",
       "      background-color: #434B5C;\n",
       "      box-shadow: 0px 1px 3px 1px rgba(0, 0, 0, 0.15);\n",
       "      filter: drop-shadow(0px 1px 2px rgba(0, 0, 0, 0.3));\n",
       "      fill: #FFFFFF;\n",
       "    }\n",
       "  </style>\n",
       "\n",
       "      <script>\n",
       "        const buttonEl =\n",
       "          document.querySelector('#df-1c7ba582-dd4c-4194-988f-28869a1152c0 button.colab-df-convert');\n",
       "        buttonEl.style.display =\n",
       "          google.colab.kernel.accessAllowed ? 'block' : 'none';\n",
       "\n",
       "        async function convertToInteractive(key) {\n",
       "          const element = document.querySelector('#df-1c7ba582-dd4c-4194-988f-28869a1152c0');\n",
       "          const dataTable =\n",
       "            await google.colab.kernel.invokeFunction('convertToInteractive',\n",
       "                                                     [key], {});\n",
       "          if (!dataTable) return;\n",
       "\n",
       "          const docLinkHtml = 'Like what you see? Visit the ' +\n",
       "            '<a target=\"_blank\" href=https://colab.research.google.com/notebooks/data_table.ipynb>data table notebook</a>'\n",
       "            + ' to learn more about interactive tables.';\n",
       "          element.innerHTML = '';\n",
       "          dataTable['output_type'] = 'display_data';\n",
       "          await google.colab.output.renderOutput(dataTable, element);\n",
       "          const docLink = document.createElement('div');\n",
       "          docLink.innerHTML = docLinkHtml;\n",
       "          element.appendChild(docLink);\n",
       "        }\n",
       "      </script>\n",
       "    </div>\n",
       "  </div>\n"
      ],
      "text/plain": [
       "   label  pixel1  pixel2  pixel3  pixel4  pixel5  pixel6  pixel7  pixel8  \\\n",
       "0      3     107     118     127     134     139     143     146     150   \n",
       "1      6     155     157     156     156     156     157     156     158   \n",
       "2      2     187     188     188     187     187     186     187     188   \n",
       "3      2     211     211     212     212     211     210     211     210   \n",
       "4     13     164     167     170     172     176     179     180     184   \n",
       "\n",
       "   pixel9  ...  pixel775  pixel776  pixel777  pixel778  pixel779  pixel780  \\\n",
       "0     153  ...       207       207       207       207       206       206   \n",
       "1     158  ...        69       149       128        87        94       163   \n",
       "2     187  ...       202       201       200       199       198       199   \n",
       "3     210  ...       235       234       233       231       230       226   \n",
       "4     185  ...        92       105       105       108       133       163   \n",
       "\n",
       "   pixel781  pixel782  pixel783  pixel784  \n",
       "0       206       204       203       202  \n",
       "1       175       103       135       149  \n",
       "2       198       195       194       195  \n",
       "3       225       222       229       163  \n",
       "4       157       163       164       179  \n",
       "\n",
       "[5 rows x 785 columns]"
      ]
     },
     "execution_count": 4,
     "metadata": {},
     "output_type": "execute_result"
    }
   ],
   "source": [
    "# Display the first few rows of the training data\n",
    "train_data.head()"
   ]
  },
  {
   "cell_type": "code",
   "execution_count": null,
   "metadata": {
    "colab": {
     "base_uri": "https://localhost:8080/"
    },
    "id": "TYF9jlglVOQF",
    "outputId": "5caeb4d9-1031-4480-bb0b-0bfa2c5b39b0"
   },
   "outputs": [
    {
     "name": "stdout",
     "output_type": "stream",
     "text": [
      "<class 'pandas.core.frame.DataFrame'>\n",
      "RangeIndex: 27455 entries, 0 to 27454\n",
      "Columns: 785 entries, label to pixel784\n",
      "dtypes: int64(785)\n",
      "memory usage: 164.4 MB\n"
     ]
    }
   ],
   "source": [
    "train_data.info()"
   ]
  },
  {
   "cell_type": "markdown",
   "metadata": {
    "id": "SwORWrFTG3a_"
   },
   "source": [
    "All columns are of int type"
   ]
  },
  {
   "cell_type": "code",
   "execution_count": null,
   "metadata": {
    "colab": {
     "base_uri": "https://localhost:8080/",
     "height": 300
    },
    "id": "7kG15_BWQf1S",
    "outputId": "e9b43afa-e50b-49e3-a4fd-08c5cbd42c87"
   },
   "outputs": [
    {
     "data": {
      "text/html": [
       "\n",
       "\n",
       "  <div id=\"df-6d77eb08-77c6-450c-a744-d4b97ecab0fa\">\n",
       "    <div class=\"colab-df-container\">\n",
       "      <div>\n",
       "<style scoped>\n",
       "    .dataframe tbody tr th:only-of-type {\n",
       "        vertical-align: middle;\n",
       "    }\n",
       "\n",
       "    .dataframe tbody tr th {\n",
       "        vertical-align: top;\n",
       "    }\n",
       "\n",
       "    .dataframe thead th {\n",
       "        text-align: right;\n",
       "    }\n",
       "</style>\n",
       "<table border=\"1\" class=\"dataframe\">\n",
       "  <thead>\n",
       "    <tr style=\"text-align: right;\">\n",
       "      <th></th>\n",
       "      <th>label</th>\n",
       "      <th>pixel1</th>\n",
       "      <th>pixel2</th>\n",
       "      <th>pixel3</th>\n",
       "      <th>pixel4</th>\n",
       "      <th>pixel5</th>\n",
       "      <th>pixel6</th>\n",
       "      <th>pixel7</th>\n",
       "      <th>pixel8</th>\n",
       "      <th>pixel9</th>\n",
       "      <th>...</th>\n",
       "      <th>pixel775</th>\n",
       "      <th>pixel776</th>\n",
       "      <th>pixel777</th>\n",
       "      <th>pixel778</th>\n",
       "      <th>pixel779</th>\n",
       "      <th>pixel780</th>\n",
       "      <th>pixel781</th>\n",
       "      <th>pixel782</th>\n",
       "      <th>pixel783</th>\n",
       "      <th>pixel784</th>\n",
       "    </tr>\n",
       "  </thead>\n",
       "  <tbody>\n",
       "    <tr>\n",
       "      <th>0</th>\n",
       "      <td>6</td>\n",
       "      <td>149</td>\n",
       "      <td>149</td>\n",
       "      <td>150</td>\n",
       "      <td>150</td>\n",
       "      <td>150</td>\n",
       "      <td>151</td>\n",
       "      <td>151</td>\n",
       "      <td>150</td>\n",
       "      <td>151</td>\n",
       "      <td>...</td>\n",
       "      <td>138</td>\n",
       "      <td>148</td>\n",
       "      <td>127</td>\n",
       "      <td>89</td>\n",
       "      <td>82</td>\n",
       "      <td>96</td>\n",
       "      <td>106</td>\n",
       "      <td>112</td>\n",
       "      <td>120</td>\n",
       "      <td>107</td>\n",
       "    </tr>\n",
       "    <tr>\n",
       "      <th>1</th>\n",
       "      <td>5</td>\n",
       "      <td>126</td>\n",
       "      <td>128</td>\n",
       "      <td>131</td>\n",
       "      <td>132</td>\n",
       "      <td>133</td>\n",
       "      <td>134</td>\n",
       "      <td>135</td>\n",
       "      <td>135</td>\n",
       "      <td>136</td>\n",
       "      <td>...</td>\n",
       "      <td>47</td>\n",
       "      <td>104</td>\n",
       "      <td>194</td>\n",
       "      <td>183</td>\n",
       "      <td>186</td>\n",
       "      <td>184</td>\n",
       "      <td>184</td>\n",
       "      <td>184</td>\n",
       "      <td>182</td>\n",
       "      <td>180</td>\n",
       "    </tr>\n",
       "    <tr>\n",
       "      <th>2</th>\n",
       "      <td>10</td>\n",
       "      <td>85</td>\n",
       "      <td>88</td>\n",
       "      <td>92</td>\n",
       "      <td>96</td>\n",
       "      <td>105</td>\n",
       "      <td>123</td>\n",
       "      <td>135</td>\n",
       "      <td>143</td>\n",
       "      <td>147</td>\n",
       "      <td>...</td>\n",
       "      <td>68</td>\n",
       "      <td>166</td>\n",
       "      <td>242</td>\n",
       "      <td>227</td>\n",
       "      <td>230</td>\n",
       "      <td>227</td>\n",
       "      <td>226</td>\n",
       "      <td>225</td>\n",
       "      <td>224</td>\n",
       "      <td>222</td>\n",
       "    </tr>\n",
       "    <tr>\n",
       "      <th>3</th>\n",
       "      <td>0</td>\n",
       "      <td>203</td>\n",
       "      <td>205</td>\n",
       "      <td>207</td>\n",
       "      <td>206</td>\n",
       "      <td>207</td>\n",
       "      <td>209</td>\n",
       "      <td>210</td>\n",
       "      <td>209</td>\n",
       "      <td>210</td>\n",
       "      <td>...</td>\n",
       "      <td>154</td>\n",
       "      <td>248</td>\n",
       "      <td>247</td>\n",
       "      <td>248</td>\n",
       "      <td>253</td>\n",
       "      <td>236</td>\n",
       "      <td>230</td>\n",
       "      <td>240</td>\n",
       "      <td>253</td>\n",
       "      <td>255</td>\n",
       "    </tr>\n",
       "    <tr>\n",
       "      <th>4</th>\n",
       "      <td>3</td>\n",
       "      <td>188</td>\n",
       "      <td>191</td>\n",
       "      <td>193</td>\n",
       "      <td>195</td>\n",
       "      <td>199</td>\n",
       "      <td>201</td>\n",
       "      <td>202</td>\n",
       "      <td>203</td>\n",
       "      <td>203</td>\n",
       "      <td>...</td>\n",
       "      <td>26</td>\n",
       "      <td>40</td>\n",
       "      <td>64</td>\n",
       "      <td>48</td>\n",
       "      <td>29</td>\n",
       "      <td>46</td>\n",
       "      <td>49</td>\n",
       "      <td>46</td>\n",
       "      <td>46</td>\n",
       "      <td>53</td>\n",
       "    </tr>\n",
       "  </tbody>\n",
       "</table>\n",
       "<p>5 rows × 785 columns</p>\n",
       "</div>\n",
       "      <button class=\"colab-df-convert\" onclick=\"convertToInteractive('df-6d77eb08-77c6-450c-a744-d4b97ecab0fa')\"\n",
       "              title=\"Convert this dataframe to an interactive table.\"\n",
       "              style=\"display:none;\">\n",
       "\n",
       "  <svg xmlns=\"http://www.w3.org/2000/svg\" height=\"24px\"viewBox=\"0 0 24 24\"\n",
       "       width=\"24px\">\n",
       "    <path d=\"M0 0h24v24H0V0z\" fill=\"none\"/>\n",
       "    <path d=\"M18.56 5.44l.94 2.06.94-2.06 2.06-.94-2.06-.94-.94-2.06-.94 2.06-2.06.94zm-11 1L8.5 8.5l.94-2.06 2.06-.94-2.06-.94L8.5 2.5l-.94 2.06-2.06.94zm10 10l.94 2.06.94-2.06 2.06-.94-2.06-.94-.94-2.06-.94 2.06-2.06.94z\"/><path d=\"M17.41 7.96l-1.37-1.37c-.4-.4-.92-.59-1.43-.59-.52 0-1.04.2-1.43.59L10.3 9.45l-7.72 7.72c-.78.78-.78 2.05 0 2.83L4 21.41c.39.39.9.59 1.41.59.51 0 1.02-.2 1.41-.59l7.78-7.78 2.81-2.81c.8-.78.8-2.07 0-2.86zM5.41 20L4 18.59l7.72-7.72 1.47 1.35L5.41 20z\"/>\n",
       "  </svg>\n",
       "      </button>\n",
       "\n",
       "\n",
       "\n",
       "    <div id=\"df-1552d13e-edd2-4725-886f-1a89d3820ce6\">\n",
       "      <button class=\"colab-df-quickchart\" onclick=\"quickchart('df-1552d13e-edd2-4725-886f-1a89d3820ce6')\"\n",
       "              title=\"Suggest charts.\"\n",
       "              style=\"display:none;\">\n",
       "\n",
       "<svg xmlns=\"http://www.w3.org/2000/svg\" height=\"24px\"viewBox=\"0 0 24 24\"\n",
       "     width=\"24px\">\n",
       "    <g>\n",
       "        <path d=\"M19 3H5c-1.1 0-2 .9-2 2v14c0 1.1.9 2 2 2h14c1.1 0 2-.9 2-2V5c0-1.1-.9-2-2-2zM9 17H7v-7h2v7zm4 0h-2V7h2v10zm4 0h-2v-4h2v4z\"/>\n",
       "    </g>\n",
       "</svg>\n",
       "      </button>\n",
       "    </div>\n",
       "\n",
       "<style>\n",
       "  .colab-df-quickchart {\n",
       "    background-color: #E8F0FE;\n",
       "    border: none;\n",
       "    border-radius: 50%;\n",
       "    cursor: pointer;\n",
       "    display: none;\n",
       "    fill: #1967D2;\n",
       "    height: 32px;\n",
       "    padding: 0 0 0 0;\n",
       "    width: 32px;\n",
       "  }\n",
       "\n",
       "  .colab-df-quickchart:hover {\n",
       "    background-color: #E2EBFA;\n",
       "    box-shadow: 0px 1px 2px rgba(60, 64, 67, 0.3), 0px 1px 3px 1px rgba(60, 64, 67, 0.15);\n",
       "    fill: #174EA6;\n",
       "  }\n",
       "\n",
       "  [theme=dark] .colab-df-quickchart {\n",
       "    background-color: #3B4455;\n",
       "    fill: #D2E3FC;\n",
       "  }\n",
       "\n",
       "  [theme=dark] .colab-df-quickchart:hover {\n",
       "    background-color: #434B5C;\n",
       "    box-shadow: 0px 1px 3px 1px rgba(0, 0, 0, 0.15);\n",
       "    filter: drop-shadow(0px 1px 2px rgba(0, 0, 0, 0.3));\n",
       "    fill: #FFFFFF;\n",
       "  }\n",
       "</style>\n",
       "\n",
       "    <script>\n",
       "      async function quickchart(key) {\n",
       "        const containerElement = document.querySelector('#' + key);\n",
       "        const charts = await google.colab.kernel.invokeFunction(\n",
       "            'suggestCharts', [key], {});\n",
       "      }\n",
       "    </script>\n",
       "\n",
       "\n",
       "      <script>\n",
       "\n",
       "function displayQuickchartButton(domScope) {\n",
       "  let quickchartButtonEl =\n",
       "    domScope.querySelector('#df-1552d13e-edd2-4725-886f-1a89d3820ce6 button.colab-df-quickchart');\n",
       "  quickchartButtonEl.style.display =\n",
       "    google.colab.kernel.accessAllowed ? 'block' : 'none';\n",
       "}\n",
       "\n",
       "        displayQuickchartButton(document);\n",
       "      </script>\n",
       "      <style>\n",
       "    .colab-df-container {\n",
       "      display:flex;\n",
       "      flex-wrap:wrap;\n",
       "      gap: 12px;\n",
       "    }\n",
       "\n",
       "    .colab-df-convert {\n",
       "      background-color: #E8F0FE;\n",
       "      border: none;\n",
       "      border-radius: 50%;\n",
       "      cursor: pointer;\n",
       "      display: none;\n",
       "      fill: #1967D2;\n",
       "      height: 32px;\n",
       "      padding: 0 0 0 0;\n",
       "      width: 32px;\n",
       "    }\n",
       "\n",
       "    .colab-df-convert:hover {\n",
       "      background-color: #E2EBFA;\n",
       "      box-shadow: 0px 1px 2px rgba(60, 64, 67, 0.3), 0px 1px 3px 1px rgba(60, 64, 67, 0.15);\n",
       "      fill: #174EA6;\n",
       "    }\n",
       "\n",
       "    [theme=dark] .colab-df-convert {\n",
       "      background-color: #3B4455;\n",
       "      fill: #D2E3FC;\n",
       "    }\n",
       "\n",
       "    [theme=dark] .colab-df-convert:hover {\n",
       "      background-color: #434B5C;\n",
       "      box-shadow: 0px 1px 3px 1px rgba(0, 0, 0, 0.15);\n",
       "      filter: drop-shadow(0px 1px 2px rgba(0, 0, 0, 0.3));\n",
       "      fill: #FFFFFF;\n",
       "    }\n",
       "  </style>\n",
       "\n",
       "      <script>\n",
       "        const buttonEl =\n",
       "          document.querySelector('#df-6d77eb08-77c6-450c-a744-d4b97ecab0fa button.colab-df-convert');\n",
       "        buttonEl.style.display =\n",
       "          google.colab.kernel.accessAllowed ? 'block' : 'none';\n",
       "\n",
       "        async function convertToInteractive(key) {\n",
       "          const element = document.querySelector('#df-6d77eb08-77c6-450c-a744-d4b97ecab0fa');\n",
       "          const dataTable =\n",
       "            await google.colab.kernel.invokeFunction('convertToInteractive',\n",
       "                                                     [key], {});\n",
       "          if (!dataTable) return;\n",
       "\n",
       "          const docLinkHtml = 'Like what you see? Visit the ' +\n",
       "            '<a target=\"_blank\" href=https://colab.research.google.com/notebooks/data_table.ipynb>data table notebook</a>'\n",
       "            + ' to learn more about interactive tables.';\n",
       "          element.innerHTML = '';\n",
       "          dataTable['output_type'] = 'display_data';\n",
       "          await google.colab.output.renderOutput(dataTable, element);\n",
       "          const docLink = document.createElement('div');\n",
       "          docLink.innerHTML = docLinkHtml;\n",
       "          element.appendChild(docLink);\n",
       "        }\n",
       "      </script>\n",
       "    </div>\n",
       "  </div>\n"
      ],
      "text/plain": [
       "   label  pixel1  pixel2  pixel3  pixel4  pixel5  pixel6  pixel7  pixel8  \\\n",
       "0      6     149     149     150     150     150     151     151     150   \n",
       "1      5     126     128     131     132     133     134     135     135   \n",
       "2     10      85      88      92      96     105     123     135     143   \n",
       "3      0     203     205     207     206     207     209     210     209   \n",
       "4      3     188     191     193     195     199     201     202     203   \n",
       "\n",
       "   pixel9  ...  pixel775  pixel776  pixel777  pixel778  pixel779  pixel780  \\\n",
       "0     151  ...       138       148       127        89        82        96   \n",
       "1     136  ...        47       104       194       183       186       184   \n",
       "2     147  ...        68       166       242       227       230       227   \n",
       "3     210  ...       154       248       247       248       253       236   \n",
       "4     203  ...        26        40        64        48        29        46   \n",
       "\n",
       "   pixel781  pixel782  pixel783  pixel784  \n",
       "0       106       112       120       107  \n",
       "1       184       184       182       180  \n",
       "2       226       225       224       222  \n",
       "3       230       240       253       255  \n",
       "4        49        46        46        53  \n",
       "\n",
       "[5 rows x 785 columns]"
      ]
     },
     "execution_count": 6,
     "metadata": {},
     "output_type": "execute_result"
    }
   ],
   "source": [
    "# Display the first few rows of the test data\n",
    "test_data.head()"
   ]
  },
  {
   "cell_type": "code",
   "execution_count": null,
   "metadata": {
    "colab": {
     "base_uri": "https://localhost:8080/"
    },
    "id": "8xutfDsgQxEJ",
    "outputId": "2ef82266-6fbb-4ef8-a68c-8a80714cbac4"
   },
   "outputs": [
    {
     "name": "stdout",
     "output_type": "stream",
     "text": [
      "Missing values in training data:\n",
      "label       0\n",
      "pixel1      0\n",
      "pixel2      0\n",
      "pixel3      0\n",
      "pixel4      0\n",
      "           ..\n",
      "pixel780    0\n",
      "pixel781    0\n",
      "pixel782    0\n",
      "pixel783    0\n",
      "pixel784    0\n",
      "Length: 785, dtype: int64\n",
      "\n",
      "\n",
      "Missing values in test data:\n",
      "label       0\n",
      "pixel1      0\n",
      "pixel2      0\n",
      "pixel3      0\n",
      "pixel4      0\n",
      "           ..\n",
      "pixel780    0\n",
      "pixel781    0\n",
      "pixel782    0\n",
      "pixel783    0\n",
      "pixel784    0\n",
      "Length: 785, dtype: int64\n"
     ]
    }
   ],
   "source": [
    "# Check for missing values (null values) in the training data\n",
    "\n",
    "print(\"Missing values in training data:\")\n",
    "print(train_data.isnull().sum())\n",
    "\n",
    "print()\n",
    "print(\"\\nMissing values in test data:\")\n",
    "# Check for missing values (null values) in the test data\n",
    "print(test_data.isnull().sum())"
   ]
  },
  {
   "cell_type": "markdown",
   "metadata": {
    "id": "rUOXn665oIwV"
   },
   "source": [
    "There are no null values in the train and test data"
   ]
  },
  {
   "cell_type": "code",
   "execution_count": null,
   "metadata": {
    "colab": {
     "base_uri": "https://localhost:8080/",
     "height": 481
    },
    "id": "xwa1dg45_BAG",
    "outputId": "c051bb4d-3f41-4144-f310-bd68252126b8"
   },
   "outputs": [
    {
     "data": {
      "image/png": "[encoded data removed]",
      "text/plain": [
       "<Figure size 640x480 with 1 Axes>"
      ]
     },
     "metadata": {},
     "output_type": "display_data"
    }
   ],
   "source": [
    "import pandas as pd\n",
    "import matplotlib.pyplot as plt\n",
    "\n",
    "# Compute and sort the distribution of labels\n",
    "label_distribution = train_data['label'].value_counts().sort_index()\n",
    "\n",
    "# Plotting the histogram of label distribution\n",
    "label_distribution.plot(kind='bar')\n",
    "\n",
    "# Adding plot title and labels\n",
    "plt.title('Label Distribution')\n",
    "plt.xlabel('Label')\n",
    "plt.ylabel('Frequency')\n",
    "\n",
    "# Rotate x-axis labels for better visibility\n",
    "plt.xticks(rotation=45)\n",
    "\n",
    "# Ensure tight layout for better appearance\n",
    "plt.tight_layout()\n",
    "\n",
    "# Display the plot\n",
    "plt.show()"
   ]
  },
  {
   "cell_type": "markdown",
   "metadata": {
    "id": "T72mcCUQosab"
   },
   "source": [
    "#### Observations\n",
    "- The labels have a nearly uniform distribution ranging from 0 to 24.\n",
    "- An anomalous value is observed, represented by the label 200.\n"
   ]
  },
  {
   "cell_type": "code",
   "execution_count": null,
   "metadata": {
    "colab": {
     "base_uri": "https://localhost:8080/",
     "height": 488
    },
    "id": "qKhRtCGtmcFR",
    "outputId": "b655c0ff-1edb-4497-d6ac-03f3b2835deb"
   },
   "outputs": [
    {
     "data": {
      "text/html": [
       "\n",
       "\n",
       "  <div id=\"df-0bedc3ec-bb43-45fd-be38-f636df2fa05f\">\n",
       "    <div class=\"colab-df-container\">\n",
       "      <div>\n",
       "<style scoped>\n",
       "    .dataframe tbody tr th:only-of-type {\n",
       "        vertical-align: middle;\n",
       "    }\n",
       "\n",
       "    .dataframe tbody tr th {\n",
       "        vertical-align: top;\n",
       "    }\n",
       "\n",
       "    .dataframe thead th {\n",
       "        text-align: right;\n",
       "    }\n",
       "</style>\n",
       "<table border=\"1\" class=\"dataframe\">\n",
       "  <thead>\n",
       "    <tr style=\"text-align: right;\">\n",
       "      <th></th>\n",
       "      <th>label</th>\n",
       "      <th>pixel1</th>\n",
       "      <th>pixel2</th>\n",
       "      <th>pixel3</th>\n",
       "      <th>pixel4</th>\n",
       "      <th>pixel5</th>\n",
       "      <th>pixel6</th>\n",
       "      <th>pixel7</th>\n",
       "      <th>pixel8</th>\n",
       "      <th>pixel9</th>\n",
       "      <th>...</th>\n",
       "      <th>pixel775</th>\n",
       "      <th>pixel776</th>\n",
       "      <th>pixel777</th>\n",
       "      <th>pixel778</th>\n",
       "      <th>pixel779</th>\n",
       "      <th>pixel780</th>\n",
       "      <th>pixel781</th>\n",
       "      <th>pixel782</th>\n",
       "      <th>pixel783</th>\n",
       "      <th>pixel784</th>\n",
       "    </tr>\n",
       "  </thead>\n",
       "  <tbody>\n",
       "    <tr>\n",
       "      <th>0</th>\n",
       "      <td>3</td>\n",
       "      <td>107</td>\n",
       "      <td>118</td>\n",
       "      <td>127</td>\n",
       "      <td>134</td>\n",
       "      <td>139</td>\n",
       "      <td>143</td>\n",
       "      <td>146</td>\n",
       "      <td>150</td>\n",
       "      <td>153</td>\n",
       "      <td>...</td>\n",
       "      <td>207</td>\n",
       "      <td>207</td>\n",
       "      <td>207</td>\n",
       "      <td>207</td>\n",
       "      <td>206</td>\n",
       "      <td>206</td>\n",
       "      <td>206</td>\n",
       "      <td>204</td>\n",
       "      <td>203</td>\n",
       "      <td>202</td>\n",
       "    </tr>\n",
       "    <tr>\n",
       "      <th>1</th>\n",
       "      <td>6</td>\n",
       "      <td>155</td>\n",
       "      <td>157</td>\n",
       "      <td>156</td>\n",
       "      <td>156</td>\n",
       "      <td>156</td>\n",
       "      <td>157</td>\n",
       "      <td>156</td>\n",
       "      <td>158</td>\n",
       "      <td>158</td>\n",
       "      <td>...</td>\n",
       "      <td>69</td>\n",
       "      <td>149</td>\n",
       "      <td>128</td>\n",
       "      <td>87</td>\n",
       "      <td>94</td>\n",
       "      <td>163</td>\n",
       "      <td>175</td>\n",
       "      <td>103</td>\n",
       "      <td>135</td>\n",
       "      <td>149</td>\n",
       "    </tr>\n",
       "    <tr>\n",
       "      <th>2</th>\n",
       "      <td>2</td>\n",
       "      <td>187</td>\n",
       "      <td>188</td>\n",
       "      <td>188</td>\n",
       "      <td>187</td>\n",
       "      <td>187</td>\n",
       "      <td>186</td>\n",
       "      <td>187</td>\n",
       "      <td>188</td>\n",
       "      <td>187</td>\n",
       "      <td>...</td>\n",
       "      <td>202</td>\n",
       "      <td>201</td>\n",
       "      <td>200</td>\n",
       "      <td>199</td>\n",
       "      <td>198</td>\n",
       "      <td>199</td>\n",
       "      <td>198</td>\n",
       "      <td>195</td>\n",
       "      <td>194</td>\n",
       "      <td>195</td>\n",
       "    </tr>\n",
       "    <tr>\n",
       "      <th>3</th>\n",
       "      <td>2</td>\n",
       "      <td>211</td>\n",
       "      <td>211</td>\n",
       "      <td>212</td>\n",
       "      <td>212</td>\n",
       "      <td>211</td>\n",
       "      <td>210</td>\n",
       "      <td>211</td>\n",
       "      <td>210</td>\n",
       "      <td>210</td>\n",
       "      <td>...</td>\n",
       "      <td>235</td>\n",
       "      <td>234</td>\n",
       "      <td>233</td>\n",
       "      <td>231</td>\n",
       "      <td>230</td>\n",
       "      <td>226</td>\n",
       "      <td>225</td>\n",
       "      <td>222</td>\n",
       "      <td>229</td>\n",
       "      <td>163</td>\n",
       "    </tr>\n",
       "    <tr>\n",
       "      <th>4</th>\n",
       "      <td>13</td>\n",
       "      <td>164</td>\n",
       "      <td>167</td>\n",
       "      <td>170</td>\n",
       "      <td>172</td>\n",
       "      <td>176</td>\n",
       "      <td>179</td>\n",
       "      <td>180</td>\n",
       "      <td>184</td>\n",
       "      <td>185</td>\n",
       "      <td>...</td>\n",
       "      <td>92</td>\n",
       "      <td>105</td>\n",
       "      <td>105</td>\n",
       "      <td>108</td>\n",
       "      <td>133</td>\n",
       "      <td>163</td>\n",
       "      <td>157</td>\n",
       "      <td>163</td>\n",
       "      <td>164</td>\n",
       "      <td>179</td>\n",
       "    </tr>\n",
       "    <tr>\n",
       "      <th>...</th>\n",
       "      <td>...</td>\n",
       "      <td>...</td>\n",
       "      <td>...</td>\n",
       "      <td>...</td>\n",
       "      <td>...</td>\n",
       "      <td>...</td>\n",
       "      <td>...</td>\n",
       "      <td>...</td>\n",
       "      <td>...</td>\n",
       "      <td>...</td>\n",
       "      <td>...</td>\n",
       "      <td>...</td>\n",
       "      <td>...</td>\n",
       "      <td>...</td>\n",
       "      <td>...</td>\n",
       "      <td>...</td>\n",
       "      <td>...</td>\n",
       "      <td>...</td>\n",
       "      <td>...</td>\n",
       "      <td>...</td>\n",
       "      <td>...</td>\n",
       "    </tr>\n",
       "    <tr>\n",
       "      <th>27450</th>\n",
       "      <td>13</td>\n",
       "      <td>189</td>\n",
       "      <td>189</td>\n",
       "      <td>190</td>\n",
       "      <td>190</td>\n",
       "      <td>192</td>\n",
       "      <td>193</td>\n",
       "      <td>193</td>\n",
       "      <td>193</td>\n",
       "      <td>193</td>\n",
       "      <td>...</td>\n",
       "      <td>132</td>\n",
       "      <td>165</td>\n",
       "      <td>99</td>\n",
       "      <td>77</td>\n",
       "      <td>52</td>\n",
       "      <td>200</td>\n",
       "      <td>234</td>\n",
       "      <td>200</td>\n",
       "      <td>222</td>\n",
       "      <td>225</td>\n",
       "    </tr>\n",
       "    <tr>\n",
       "      <th>27451</th>\n",
       "      <td>23</td>\n",
       "      <td>151</td>\n",
       "      <td>154</td>\n",
       "      <td>157</td>\n",
       "      <td>158</td>\n",
       "      <td>160</td>\n",
       "      <td>161</td>\n",
       "      <td>163</td>\n",
       "      <td>164</td>\n",
       "      <td>166</td>\n",
       "      <td>...</td>\n",
       "      <td>198</td>\n",
       "      <td>198</td>\n",
       "      <td>198</td>\n",
       "      <td>198</td>\n",
       "      <td>198</td>\n",
       "      <td>196</td>\n",
       "      <td>195</td>\n",
       "      <td>195</td>\n",
       "      <td>195</td>\n",
       "      <td>194</td>\n",
       "    </tr>\n",
       "    <tr>\n",
       "      <th>27452</th>\n",
       "      <td>18</td>\n",
       "      <td>174</td>\n",
       "      <td>174</td>\n",
       "      <td>174</td>\n",
       "      <td>174</td>\n",
       "      <td>174</td>\n",
       "      <td>175</td>\n",
       "      <td>175</td>\n",
       "      <td>174</td>\n",
       "      <td>173</td>\n",
       "      <td>...</td>\n",
       "      <td>121</td>\n",
       "      <td>196</td>\n",
       "      <td>209</td>\n",
       "      <td>208</td>\n",
       "      <td>206</td>\n",
       "      <td>204</td>\n",
       "      <td>203</td>\n",
       "      <td>202</td>\n",
       "      <td>200</td>\n",
       "      <td>200</td>\n",
       "    </tr>\n",
       "    <tr>\n",
       "      <th>27453</th>\n",
       "      <td>17</td>\n",
       "      <td>177</td>\n",
       "      <td>181</td>\n",
       "      <td>184</td>\n",
       "      <td>185</td>\n",
       "      <td>187</td>\n",
       "      <td>189</td>\n",
       "      <td>190</td>\n",
       "      <td>191</td>\n",
       "      <td>191</td>\n",
       "      <td>...</td>\n",
       "      <td>119</td>\n",
       "      <td>56</td>\n",
       "      <td>27</td>\n",
       "      <td>58</td>\n",
       "      <td>102</td>\n",
       "      <td>79</td>\n",
       "      <td>47</td>\n",
       "      <td>64</td>\n",
       "      <td>87</td>\n",
       "      <td>93</td>\n",
       "    </tr>\n",
       "    <tr>\n",
       "      <th>27454</th>\n",
       "      <td>23</td>\n",
       "      <td>179</td>\n",
       "      <td>180</td>\n",
       "      <td>180</td>\n",
       "      <td>180</td>\n",
       "      <td>182</td>\n",
       "      <td>181</td>\n",
       "      <td>182</td>\n",
       "      <td>183</td>\n",
       "      <td>182</td>\n",
       "      <td>...</td>\n",
       "      <td>108</td>\n",
       "      <td>132</td>\n",
       "      <td>170</td>\n",
       "      <td>194</td>\n",
       "      <td>214</td>\n",
       "      <td>203</td>\n",
       "      <td>197</td>\n",
       "      <td>205</td>\n",
       "      <td>209</td>\n",
       "      <td>215</td>\n",
       "    </tr>\n",
       "  </tbody>\n",
       "</table>\n",
       "<p>27454 rows × 785 columns</p>\n",
       "</div>\n",
       "      <button class=\"colab-df-convert\" onclick=\"convertToInteractive('df-0bedc3ec-bb43-45fd-be38-f636df2fa05f')\"\n",
       "              title=\"Convert this dataframe to an interactive table.\"\n",
       "              style=\"display:none;\">\n",
       "\n",
       "  <svg xmlns=\"http://www.w3.org/2000/svg\" height=\"24px\"viewBox=\"0 0 24 24\"\n",
       "       width=\"24px\">\n",
       "    <path d=\"M0 0h24v24H0V0z\" fill=\"none\"/>\n",
       "    <path d=\"M18.56 5.44l.94 2.06.94-2.06 2.06-.94-2.06-.94-.94-2.06-.94 2.06-2.06.94zm-11 1L8.5 8.5l.94-2.06 2.06-.94-2.06-.94L8.5 2.5l-.94 2.06-2.06.94zm10 10l.94 2.06.94-2.06 2.06-.94-2.06-.94-.94-2.06-.94 2.06-2.06.94z\"/><path d=\"M17.41 7.96l-1.37-1.37c-.4-.4-.92-.59-1.43-.59-.52 0-1.04.2-1.43.59L10.3 9.45l-7.72 7.72c-.78.78-.78 2.05 0 2.83L4 21.41c.39.39.9.59 1.41.59.51 0 1.02-.2 1.41-.59l7.78-7.78 2.81-2.81c.8-.78.8-2.07 0-2.86zM5.41 20L4 18.59l7.72-7.72 1.47 1.35L5.41 20z\"/>\n",
       "  </svg>\n",
       "      </button>\n",
       "\n",
       "\n",
       "\n",
       "    <div id=\"df-0ccadf1b-3c87-490b-9d52-893508de1754\">\n",
       "      <button class=\"colab-df-quickchart\" onclick=\"quickchart('df-0ccadf1b-3c87-490b-9d52-893508de1754')\"\n",
       "              title=\"Suggest charts.\"\n",
       "              style=\"display:none;\">\n",
       "\n",
       "<svg xmlns=\"http://www.w3.org/2000/svg\" height=\"24px\"viewBox=\"0 0 24 24\"\n",
       "     width=\"24px\">\n",
       "    <g>\n",
       "        <path d=\"M19 3H5c-1.1 0-2 .9-2 2v14c0 1.1.9 2 2 2h14c1.1 0 2-.9 2-2V5c0-1.1-.9-2-2-2zM9 17H7v-7h2v7zm4 0h-2V7h2v10zm4 0h-2v-4h2v4z\"/>\n",
       "    </g>\n",
       "</svg>\n",
       "      </button>\n",
       "    </div>\n",
       "\n",
       "<style>\n",
       "  .colab-df-quickchart {\n",
       "    background-color: #E8F0FE;\n",
       "    border: none;\n",
       "    border-radius: 50%;\n",
       "    cursor: pointer;\n",
       "    display: none;\n",
       "    fill: #1967D2;\n",
       "    height: 32px;\n",
       "    padding: 0 0 0 0;\n",
       "    width: 32px;\n",
       "  }\n",
       "\n",
       "  .colab-df-quickchart:hover {\n",
       "    background-color: #E2EBFA;\n",
       "    box-shadow: 0px 1px 2px rgba(60, 64, 67, 0.3), 0px 1px 3px 1px rgba(60, 64, 67, 0.15);\n",
       "    fill: #174EA6;\n",
       "  }\n",
       "\n",
       "  [theme=dark] .colab-df-quickchart {\n",
       "    background-color: #3B4455;\n",
       "    fill: #D2E3FC;\n",
       "  }\n",
       "\n",
       "  [theme=dark] .colab-df-quickchart:hover {\n",
       "    background-color: #434B5C;\n",
       "    box-shadow: 0px 1px 3px 1px rgba(0, 0, 0, 0.15);\n",
       "    filter: drop-shadow(0px 1px 2px rgba(0, 0, 0, 0.3));\n",
       "    fill: #FFFFFF;\n",
       "  }\n",
       "</style>\n",
       "\n",
       "    <script>\n",
       "      async function quickchart(key) {\n",
       "        const containerElement = document.querySelector('#' + key);\n",
       "        const charts = await google.colab.kernel.invokeFunction(\n",
       "            'suggestCharts', [key], {});\n",
       "      }\n",
       "    </script>\n",
       "\n",
       "\n",
       "      <script>\n",
       "\n",
       "function displayQuickchartButton(domScope) {\n",
       "  let quickchartButtonEl =\n",
       "    domScope.querySelector('#df-0ccadf1b-3c87-490b-9d52-893508de1754 button.colab-df-quickchart');\n",
       "  quickchartButtonEl.style.display =\n",
       "    google.colab.kernel.accessAllowed ? 'block' : 'none';\n",
       "}\n",
       "\n",
       "        displayQuickchartButton(document);\n",
       "      </script>\n",
       "      <style>\n",
       "    .colab-df-container {\n",
       "      display:flex;\n",
       "      flex-wrap:wrap;\n",
       "      gap: 12px;\n",
       "    }\n",
       "\n",
       "    .colab-df-convert {\n",
       "      background-color: #E8F0FE;\n",
       "      border: none;\n",
       "      border-radius: 50%;\n",
       "      cursor: pointer;\n",
       "      display: none;\n",
       "      fill: #1967D2;\n",
       "      height: 32px;\n",
       "      padding: 0 0 0 0;\n",
       "      width: 32px;\n",
       "    }\n",
       "\n",
       "    .colab-df-convert:hover {\n",
       "      background-color: #E2EBFA;\n",
       "      box-shadow: 0px 1px 2px rgba(60, 64, 67, 0.3), 0px 1px 3px 1px rgba(60, 64, 67, 0.15);\n",
       "      fill: #174EA6;\n",
       "    }\n",
       "\n",
       "    [theme=dark] .colab-df-convert {\n",
       "      background-color: #3B4455;\n",
       "      fill: #D2E3FC;\n",
       "    }\n",
       "\n",
       "    [theme=dark] .colab-df-convert:hover {\n",
       "      background-color: #434B5C;\n",
       "      box-shadow: 0px 1px 3px 1px rgba(0, 0, 0, 0.15);\n",
       "      filter: drop-shadow(0px 1px 2px rgba(0, 0, 0, 0.3));\n",
       "      fill: #FFFFFF;\n",
       "    }\n",
       "  </style>\n",
       "\n",
       "      <script>\n",
       "        const buttonEl =\n",
       "          document.querySelector('#df-0bedc3ec-bb43-45fd-be38-f636df2fa05f button.colab-df-convert');\n",
       "        buttonEl.style.display =\n",
       "          google.colab.kernel.accessAllowed ? 'block' : 'none';\n",
       "\n",
       "        async function convertToInteractive(key) {\n",
       "          const element = document.querySelector('#df-0bedc3ec-bb43-45fd-be38-f636df2fa05f');\n",
       "          const dataTable =\n",
       "            await google.colab.kernel.invokeFunction('convertToInteractive',\n",
       "                                                     [key], {});\n",
       "          if (!dataTable) return;\n",
       "\n",
       "          const docLinkHtml = 'Like what you see? Visit the ' +\n",
       "            '<a target=\"_blank\" href=https://colab.research.google.com/notebooks/data_table.ipynb>data table notebook</a>'\n",
       "            + ' to learn more about interactive tables.';\n",
       "          element.innerHTML = '';\n",
       "          dataTable['output_type'] = 'display_data';\n",
       "          await google.colab.output.renderOutput(dataTable, element);\n",
       "          const docLink = document.createElement('div');\n",
       "          docLink.innerHTML = docLinkHtml;\n",
       "          element.appendChild(docLink);\n",
       "        }\n",
       "      </script>\n",
       "    </div>\n",
       "  </div>\n"
      ],
      "text/plain": [
       "       label  pixel1  pixel2  pixel3  pixel4  pixel5  pixel6  pixel7  pixel8  \\\n",
       "0          3     107     118     127     134     139     143     146     150   \n",
       "1          6     155     157     156     156     156     157     156     158   \n",
       "2          2     187     188     188     187     187     186     187     188   \n",
       "3          2     211     211     212     212     211     210     211     210   \n",
       "4         13     164     167     170     172     176     179     180     184   \n",
       "...      ...     ...     ...     ...     ...     ...     ...     ...     ...   \n",
       "27450     13     189     189     190     190     192     193     193     193   \n",
       "27451     23     151     154     157     158     160     161     163     164   \n",
       "27452     18     174     174     174     174     174     175     175     174   \n",
       "27453     17     177     181     184     185     187     189     190     191   \n",
       "27454     23     179     180     180     180     182     181     182     183   \n",
       "\n",
       "       pixel9  ...  pixel775  pixel776  pixel777  pixel778  pixel779  \\\n",
       "0         153  ...       207       207       207       207       206   \n",
       "1         158  ...        69       149       128        87        94   \n",
       "2         187  ...       202       201       200       199       198   \n",
       "3         210  ...       235       234       233       231       230   \n",
       "4         185  ...        92       105       105       108       133   \n",
       "...       ...  ...       ...       ...       ...       ...       ...   \n",
       "27450     193  ...       132       165        99        77        52   \n",
       "27451     166  ...       198       198       198       198       198   \n",
       "27452     173  ...       121       196       209       208       206   \n",
       "27453     191  ...       119        56        27        58       102   \n",
       "27454     182  ...       108       132       170       194       214   \n",
       "\n",
       "       pixel780  pixel781  pixel782  pixel783  pixel784  \n",
       "0           206       206       204       203       202  \n",
       "1           163       175       103       135       149  \n",
       "2           199       198       195       194       195  \n",
       "3           226       225       222       229       163  \n",
       "4           163       157       163       164       179  \n",
       "...         ...       ...       ...       ...       ...  \n",
       "27450       200       234       200       222       225  \n",
       "27451       196       195       195       195       194  \n",
       "27452       204       203       202       200       200  \n",
       "27453        79        47        64        87        93  \n",
       "27454       203       197       205       209       215  \n",
       "\n",
       "[27454 rows x 785 columns]"
      ]
     },
     "execution_count": 9,
     "metadata": {},
     "output_type": "execute_result"
    }
   ],
   "source": [
    "# Remove rows where the label is 200 from the training data\n",
    "train_data = train_data[train_data['label'] != 200]\n",
    "\n",
    "# Display the modified training data\n",
    "train_data"
   ]
  },
  {
   "cell_type": "code",
   "execution_count": null,
   "metadata": {
    "id": "y6DL8vV7pSbl"
   },
   "outputs": [],
   "source": [
    "# Extract features and labels from the training data\n",
    "full_train_features = train_data.drop('label', axis=1)  # Drop the 'label' column to get features\n",
    "full_train_labels = train_data['label']  # Extract 'label' column as labels\n",
    "\n",
    "# Extract features and labels from the test data\n",
    "full_test_features = test_data.drop('label', axis=1)  # Drop the 'label' column to get features\n",
    "full_test_labels = test_data['label']  # Extract 'label' column as labels"
   ]
  },
  {
   "cell_type": "markdown",
   "metadata": {
    "id": "tbXomldRqrJg"
   },
   "source": [
    "#### Visualize Random Images"
   ]
  },
  {
   "cell_type": "code",
   "execution_count": null,
   "metadata": {
    "colab": {
     "base_uri": "https://localhost:8080/",
     "height": 468
    },
    "id": "0Cie6dVdnaom",
    "outputId": "e916f2ac-b893-46f5-8778-f300bd6164d9"
   },
   "outputs": [
    {
     "data": {
      "image/png": "[encoded data removed]",
      "text/plain": [
       "<Figure size 1000x600 with 10 Axes>"
      ]
     },
     "metadata": {},
     "output_type": "display_data"
    }
   ],
   "source": [
    "# Function to visualize some random images\n",
    "\n",
    "def visualize_images(features, labels):\n",
    "    # Create a 2x5 grid of subplots to display images\n",
    "    fig, axes = plt.subplots(2, 5, figsize=(10, 6))\n",
    "\n",
    "    # Loop through each subplot and visualize a random image\n",
    "    for ax in axes.ravel():\n",
    "        idx = np.random.randint(0, features.shape[0])  # Random index to select an image\n",
    "        ax.imshow(features.iloc[idx].values.reshape(28, 28), cmap='gray')  # Reshape and display the image\n",
    "        ax.axis('off')  # Turn off axis labels\n",
    "\n",
    "    plt.tight_layout()  # Ensure proper spacing between subplots\n",
    "    plt.show()  # Display the plot\n",
    "\n",
    "# Call the visualization function\n",
    "visualize_images(full_train_features, full_train_labels)"
   ]
  },
  {
   "cell_type": "code",
   "execution_count": null,
   "metadata": {
    "id": "3wo9lcS_eN7X"
   },
   "outputs": [],
   "source": [
    "# As the pixel values are between 0 and 255 (which is typical for grayscale image data), we should normalize them to be between 0 and 1 for training and test data\n",
    "full_train_data_normalized = full_train_features / 255.0\n",
    "test_data_normalized = full_test_features/ 255.0"
   ]
  },
  {
   "cell_type": "markdown",
   "metadata": {
    "id": "SZRJuuKHH9gW"
   },
   "source": []
  },
  {
   "cell_type": "markdown",
   "metadata": {
    "id": "_tlovlK7HtTe"
   },
   "source": []
  },
  {
   "cell_type": "markdown",
   "metadata": {
    "id": "CTH28NqQrQKe"
   },
   "source": [
    "#### Create Validation and Test Splits"
   ]
  },
  {
   "cell_type": "code",
   "execution_count": null,
   "metadata": {
    "id": "fNYUj-g9TJmm"
   },
   "outputs": [],
   "source": [
    "from sklearn.model_selection import train_test_split\n",
    "\n",
    "X_val, X_test, y_val, y_test = train_test_split(test_data_normalized, full_test_labels, test_size=0.5, random_state=42, stratify = full_test_labels)"
   ]
  },
  {
   "cell_type": "code",
   "execution_count": null,
   "metadata": {
    "colab": {
     "base_uri": "https://localhost:8080/",
     "height": 707
    },
    "id": "hxRKbBfrd1KE",
    "outputId": "e2ec7623-768a-44c2-984f-7cd72a54c861"
   },
   "outputs": [
    {
     "data": {
      "image/png": "[encoded data removed]",
      "text/plain": [
       "<Figure size 1400x700 with 3 Axes>"
      ]
     },
     "metadata": {},
     "output_type": "display_data"
    }
   ],
   "source": [
    "import numpy as np\n",
    "import matplotlib.pyplot as plt\n",
    "\n",
    "plt.figure(figsize=(14, 7))\n",
    "plt.style.use('ggplot')\n",
    "\n",
    "# Define the bin edges for a consistent histogram layout\n",
    "bins = np.arange(full_train_labels.min(), full_train_labels.max() + 2) - 0.5\n",
    "\n",
    "# Unique labels for setting x-ticks\n",
    "unique_labels = np.unique(full_train_labels)\n",
    "\n",
    "# Plotting the histograms for the training set\n",
    "plt.subplot(1, 3, 1)  # 1 row, 3 columns, plot 1\n",
    "plt.hist(full_train_labels, bins=bins, alpha=0.6, color='blue')\n",
    "plt.title('Training Set')\n",
    "plt.xlabel('Labels')\n",
    "plt.ylabel('Frequency')\n",
    "plt.xticks(ticks=np.arange(len(unique_labels)))\n",
    "\n",
    "# Plotting the histograms for the validation set\n",
    "plt.subplot(1, 3, 2)  # 1 row, 3 columns, plot 2\n",
    "plt.hist(y_val, bins=bins, alpha=0.6, color='green')\n",
    "plt.title('Validation Set')\n",
    "plt.xlabel('Labels')\n",
    "plt.ylabel('Frequency')\n",
    "plt.xticks(ticks=np.arange(len(unique_labels)))\n",
    "\n",
    "# Plotting the histograms for the test set\n",
    "plt.subplot(1, 3, 3)  # 1 row, 3 columns, plot 3\n",
    "plt.hist(y_test, bins=bins, alpha=0.6, color='red')\n",
    "plt.title('Test Set')\n",
    "plt.xlabel('Labels')\n",
    "plt.ylabel('Frequency')\n",
    "plt.xticks(ticks=np.arange(len(unique_labels)))\n",
    "\n",
    "# Adjust layout to prevent overlap\n",
    "plt.tight_layout()\n",
    "\n",
    "# Show the plot\n",
    "plt.show()\n"
   ]
  },
  {
   "cell_type": "markdown",
   "metadata": {
    "id": "4FHTNsyRrp34"
   },
   "source": [
    "Training Data, Validation Data, and Test Data exhibit a nearly uniform distribution."
   ]
  },
  {
   "cell_type": "markdown",
   "metadata": {
    "id": "tLK1_BTir-3F"
   },
   "source": [
    "### Initial Models"
   ]
  },
  {
   "cell_type": "code",
   "execution_count": null,
   "metadata": {
    "id": "MHNoed99jKuc"
   },
   "outputs": [],
   "source": [
    "# Some key parameters\n",
    "n_train = full_train_data_normalized.size\n",
    "n_valid = X_val.size\n",
    "# Define the number and size of hidden layers\n",
    "hiddensizes = [128, 128, 128, 128, 128, 128] # We consider this parameter in CNN and DNN\n",
    "# Optimiser and learning rate\n",
    "optimizer = keras.optimizers.Adam\n",
    "learningrate = 0.01   # SGD default value\n",
    "# Set size of batch and number of epochs\n",
    "batch_size = 64\n",
    "n_epochs = 15"
   ]
  },
  {
   "cell_type": "code",
   "execution_count": null,
   "metadata": {
    "id": "dhK1OaN6GasI"
   },
   "outputs": [],
   "source": [
    "# Convert the training and validation datasets from DataFrames to NumPy arrays\n",
    "X_train_np = full_train_data_normalized.values\n",
    "X_valid_np = X_val.values\n",
    "\n",
    "# Reshape the training data to a 4D array suitable for convolutional neural networks\n",
    "# The -1 indicates that the size along that axis is inferred to maintain the original number of samples\n",
    "# The shape becomes (number of samples, height, width, channels)\n",
    "X_train = X_train_np.reshape(-1, 28, 28, 1)\n",
    "\n",
    "# Reshape the validation data in the same way as the training data\n",
    "X_val = X_valid_np.reshape(-1, 28, 28, 1)"
   ]
  },
  {
   "cell_type": "code",
   "execution_count": null,
   "metadata": {
    "id": "b_IJ1jvQuCH_"
   },
   "outputs": [],
   "source": [
    "import numpy as np\n",
    "import matplotlib.pyplot as plt\n",
    "\n",
    "def plot_training_history(history, title=\"Training History\", metric=\"accuracy\", val_metric=\"val_accuracy\"):\n",
    "    n_epochs = len(history.history[metric])\n",
    "\n",
    "    plt.figure(figsize=(10, 6))\n",
    "\n",
    "    # Extract all values\n",
    "    acc_values = history.history[metric]\n",
    "    loss_values = history.history['loss']\n",
    "    val_acc_values = history.history[val_metric]\n",
    "    val_loss_values = history.history['val_loss']\n",
    "\n",
    "    # Plot accuracy and loss\n",
    "    plt.plot(np.arange(0, n_epochs), acc_values, color='orange')\n",
    "    plt.plot(np.arange(0, n_epochs), loss_values, 'b')\n",
    "    plt.plot(np.arange(0, n_epochs), val_acc_values, 'r')\n",
    "    plt.plot(np.arange(0, n_epochs), val_loss_values, 'g')\n",
    "\n",
    "    # Determine the metrics that are bounded between 0 and 1\n",
    "    bounded_metrics = [\"accuracy\", \"acc\", \"f1\", \"precision\", \"recall\", \"auc\"]\n",
    "\n",
    "    if metric in bounded_metrics:\n",
    "        acc_ylim_max = 1.05  # just a bit above 1 for better visualization\n",
    "    else:\n",
    "        acc_ylim_max = max(max(acc_values), max(val_acc_values)) * 1.1  # 10% above the max value\n",
    "\n",
    "    # Determine y-limits dynamically\n",
    "    min_ylim = min(min(acc_values), min(loss_values), min(val_acc_values), min(val_loss_values))\n",
    "    max_ylim = max(acc_ylim_max, max(loss_values), max(val_loss_values))\n",
    "\n",
    "    plt.gca().set_ylim(min_ylim, max_ylim)\n",
    "\n",
    "    # X-axis label for epochs\n",
    "    plt.xlabel(\"Epochs\")\n",
    "\n",
    "    # Titles and legends\n",
    "    plt.title(title)\n",
    "    plt.legend(['Train Acc', 'Train Loss', 'Val Acc', 'Val Loss'])\n",
    "    plt.grid(True)\n",
    "    plt.show()\n"
   ]
  },
  {
   "cell_type": "markdown",
   "metadata": {
    "id": "jXhgQS-DtIhw"
   },
   "source": [
    "#### DNN Baseline Model"
   ]
  },
  {
   "cell_type": "code",
   "execution_count": null,
   "metadata": {
    "colab": {
     "base_uri": "https://localhost:8080/"
    },
    "id": "fiPibn7zTo5w",
    "outputId": "8aa0c1fc-d57e-408f-c13d-fe196b831e19"
   },
   "outputs": [
    {
     "name": "stdout",
     "output_type": "stream",
     "text": [
      "Epoch 1/15\n",
      "858/858 [==============================] - 9s 4ms/step - loss: 1.7477 - accuracy: 0.4780 - val_loss: 1.4337 - val_accuracy: 0.5708\n",
      "Epoch 2/15\n",
      "858/858 [==============================] - 2s 3ms/step - loss: 0.9044 - accuracy: 0.7251 - val_loss: 1.1069 - val_accuracy: 0.6631\n",
      "Epoch 3/15\n",
      "858/858 [==============================] - 3s 3ms/step - loss: 0.6420 - accuracy: 0.8040 - val_loss: 1.0401 - val_accuracy: 0.6921\n",
      "Epoch 4/15\n",
      "858/858 [==============================] - 3s 3ms/step - loss: 0.4585 - accuracy: 0.8637 - val_loss: 0.9945 - val_accuracy: 0.7064\n",
      "Epoch 5/15\n",
      "858/858 [==============================] - 3s 4ms/step - loss: 0.3320 - accuracy: 0.9038 - val_loss: 1.1222 - val_accuracy: 0.6598\n",
      "Epoch 6/15\n",
      "858/858 [==============================] - 3s 3ms/step - loss: 0.2496 - accuracy: 0.9302 - val_loss: 1.0391 - val_accuracy: 0.7197\n",
      "Epoch 7/15\n",
      "858/858 [==============================] - 2s 3ms/step - loss: 0.1787 - accuracy: 0.9526 - val_loss: 1.0678 - val_accuracy: 0.7133\n",
      "Epoch 8/15\n",
      "858/858 [==============================] - 3s 3ms/step - loss: 0.1367 - accuracy: 0.9665 - val_loss: 1.0028 - val_accuracy: 0.7398\n",
      "Epoch 9/15\n",
      "858/858 [==============================] - 3s 3ms/step - loss: 0.1096 - accuracy: 0.9738 - val_loss: 1.0468 - val_accuracy: 0.7409\n",
      "Epoch 10/15\n",
      "858/858 [==============================] - 4s 4ms/step - loss: 0.0940 - accuracy: 0.9753 - val_loss: 1.1528 - val_accuracy: 0.7401\n",
      "Epoch 11/15\n",
      "858/858 [==============================] - 2s 3ms/step - loss: 0.0788 - accuracy: 0.9797 - val_loss: 1.4634 - val_accuracy: 0.6952\n",
      "Epoch 12/15\n",
      "858/858 [==============================] - 2s 3ms/step - loss: 0.0915 - accuracy: 0.9746 - val_loss: 1.1534 - val_accuracy: 0.7421\n",
      "Epoch 13/15\n",
      "858/858 [==============================] - 3s 3ms/step - loss: 0.0381 - accuracy: 0.9914 - val_loss: 1.0989 - val_accuracy: 0.7674\n",
      "Epoch 14/15\n",
      "858/858 [==============================] - 3s 3ms/step - loss: 0.0422 - accuracy: 0.9897 - val_loss: 1.1566 - val_accuracy: 0.7694\n",
      "Epoch 15/15\n",
      "858/858 [==============================] - 4s 4ms/step - loss: 0.0635 - accuracy: 0.9819 - val_loss: 1.1478 - val_accuracy: 0.7741\n"
     ]
    }
   ],
   "source": [
    "import tensorflow as tf\n",
    "from tensorflow.keras import models, layers\n",
    "\n",
    "# Create a deep neural network (DNN) baseline model\n",
    "dnn_baseline_model = models.Sequential()\n",
    "\n",
    "# Add a flatten layer to convert the 2D image data to a 1D vector\n",
    "dnn_baseline_model.add(layers.Flatten(input_shape=[28, 28]))  # Replace image_shape with the shape of the images\n",
    "\n",
    "# Add a fully connected hidden layer with 16 units and ELU activation function\n",
    "dnn_baseline_model.add(layers.Dense(128, activation='elu'))\n",
    "\n",
    "# Add an output layer with 26 units (assuming 26 classes for the alphabet) and softmax activation\n",
    "dnn_baseline_model.add(layers.Dense(26, activation='softmax'))  # Replace number_of_classes with the total number of unique labels\n",
    "\n",
    "# Compile the model\n",
    "dnn_baseline_model.compile(optimizer='adam', loss='sparse_categorical_crossentropy', metrics=['accuracy'])\n",
    "\n",
    "# Train the model and store the training history\n",
    "dnn_baseline_history = dnn_baseline_model.fit(X_train, full_train_labels, epochs=15, validation_data=(X_val, y_val))"
   ]
  },
  {
   "cell_type": "markdown",
   "metadata": {
    "id": "TUAoImCxQZvf"
   },
   "source": [
    "#### ****Summary of DNN Model Architecture****\n",
    "\n",
    "- A sequential model, which allows for the linear stacking of layers, is instantiated as dnn_baseline_model.\n",
    "- An initial 'Flatten' layer is incorporated, transforming 2D image data (of dimensions 28x28) into a linear 1D array.\n",
    "- A dense (or fully connected) layer featuring 200 neurons follows, adopting the Exponential Linear Unit (ELU) activation function.\n",
    "- A concluding dense layer, designed for classification, comprises 26 neurons—possibly to represent 26 alphabet classes. The softmax activation function is applied, enabling the output of class probabilities.\n",
    "\n",
    "**Compilation:**\n",
    "\n",
    "- The model is compiled employing the Adam optimization algorithm.\n",
    "- The loss function chosen, sparse_categorical_crossentropy, suggests a multi-class classification scenario wherein label data is not one-hot encoded.\n",
    "- Accuracy is designated as the evaluation metric.\n",
    "\n",
    "**Training:**\n",
    "\n",
    "- The model is trained using the fit method.\n",
    "- Training data (X_train and full_train_labels) and validation data (X_val and y_val) are provided.\n",
    "- The training process spans 15 epochs, with the model's performance on both training and validation data being recorded during each epoch in dnn_baseline_history."
   ]
  },
  {
   "cell_type": "code",
   "execution_count": null,
   "metadata": {
    "colab": {
     "base_uri": "https://localhost:8080/",
     "height": 574
    },
    "id": "whtYn1wEuPzK",
    "outputId": "3da1d286-ecfd-4d20-d286-80fe7a506e93"
   },
   "outputs": [
    {
     "data": {
      "image/png": "[encoded data removed]",
      "text/plain": [
       "<Figure size 1000x600 with 1 Axes>"
      ]
     },
     "metadata": {},
     "output_type": "display_data"
    }
   ],
   "source": [
    "# Call the function to plot DNN baseline training history\n",
    "plot_training_history(dnn_baseline_history, title=\"DNN Training History\")"
   ]
  },
  {
   "cell_type": "markdown",
   "metadata": {
    "id": "oZ84eeu5R7MX"
   },
   "source": [
    "#### **Analysis**\n",
    "- The model's training accuracy increased impressively over the epochs, and the training loss decreased. This means the model was effectively learning from the training data.\n",
    "\n",
    "- However, the validation data tells a slightly different story. Even though the validation accuracy showed improvement, reaching up to 77.16% in the 14th epoch, there were some fluctuations in the validation loss, especially towards the end. This suggests the model might be overfitting to the training data."
   ]
  },
  {
   "cell_type": "markdown",
   "metadata": {
    "id": "dEB1SQ5Atzxs"
   },
   "source": [
    "\n",
    "\n",
    "#### Evaluate and Print Validation Performance of DNN Baseline Model\n"
   ]
  },
  {
   "cell_type": "code",
   "execution_count": null,
   "metadata": {
    "colab": {
     "base_uri": "https://localhost:8080/"
    },
    "id": "Dg0zKtfXT2kr",
    "outputId": "cb6f723b-9362-4dd4-d2ae-d3cd760202cb"
   },
   "outputs": [
    {
     "name": "stdout",
     "output_type": "stream",
     "text": [
      "113/113 [==============================] - 0s 2ms/step - loss: 1.1478 - accuracy: 0.7741\n",
      "Validation Loss of DNN: 1.1478\n",
      "Validation Accuracy of DNN: 0.7741\n"
     ]
    }
   ],
   "source": [
    "dnn_loss, dnn_accuracy = dnn_baseline_model.evaluate(X_val, y_val)\n",
    "print(f\"Validation Loss of DNN: {dnn_loss:.4f}\")\n",
    "print(f\"Validation Accuracy of DNN: {dnn_accuracy:.4f}\")\n"
   ]
  },
  {
   "cell_type": "markdown",
   "metadata": {
    "id": "0R_GRaqoudOG"
   },
   "source": [
    "####  Evaluate and Display Metrics at Best Validation Epoch for DNN Baseline Model"
   ]
  },
  {
   "cell_type": "code",
   "execution_count": null,
   "metadata": {
    "colab": {
     "base_uri": "https://localhost:8080/"
    },
    "id": "Zsrb1wlQuHXu",
    "outputId": "ce1ee36a-d419-4590-fc1a-321909561e0f"
   },
   "outputs": [
    {
     "name": "stdout",
     "output_type": "stream",
     "text": [
      "At best validation epoch for DNN:\n",
      "\n",
      "Training accuracy = 0.982\n",
      "Validation accuracy = 0.774\n",
      "Training loss = 0.064\n",
      "Validation loss = 1.148\n"
     ]
    }
   ],
   "source": [
    "# Get the index of the epoch with maximum validation accuracy\n",
    "idx_of_max_val_acc = np.argmax(dnn_baseline_history.history['val_accuracy'])\n",
    "\n",
    "# Extract corresponding metrics at that epoch\n",
    "corresponding_train_acc = dnn_baseline_history.history['accuracy'][idx_of_max_val_acc]\n",
    "max_val_acc_at_best_epoch = dnn_baseline_history.history['val_accuracy'][idx_of_max_val_acc]\n",
    "corresponding_train_loss = dnn_baseline_history.history['loss'][idx_of_max_val_acc]\n",
    "corresponding_val_loss = dnn_baseline_history.history['val_loss'][idx_of_max_val_acc]\n",
    "\n",
    "# Display the extracted metrics\n",
    "print(f'At best validation epoch for DNN:')\n",
    "print()\n",
    "print(f'Training accuracy = {corresponding_train_acc:.3f}')\n",
    "print(f'Validation accuracy = {max_val_acc_at_best_epoch:.3f}')\n",
    "print(f'Training loss = {corresponding_train_loss:.3f}')\n",
    "print(f'Validation loss = {corresponding_val_loss:.3f}')\n"
   ]
  },
  {
   "cell_type": "markdown",
   "metadata": {
    "id": "FDU8xK9ZSZKd"
   },
   "source": []
  },
  {
   "cell_type": "markdown",
   "metadata": {
    "id": "Mf4fG4CDujW4"
   },
   "source": [
    "#### CNN Baseline Model"
   ]
  },
  {
   "cell_type": "markdown",
   "metadata": {
    "id": "XApLs96ou6Tc"
   },
   "source": [
    "##### Define and Train CNN Baseline Model"
   ]
  },
  {
   "cell_type": "code",
   "execution_count": null,
   "metadata": {
    "colab": {
     "base_uri": "https://localhost:8080/"
    },
    "id": "gSPshDMKnesJ",
    "outputId": "49002318-a6b0-49d8-a653-edc5c7ddc7f8"
   },
   "outputs": [
    {
     "name": "stdout",
     "output_type": "stream",
     "text": [
      "Epoch 1/15\n",
      "858/858 [==============================] - 10s 4ms/step - loss: 0.7987 - accuracy: 0.8071 - val_loss: 0.7194 - val_accuracy: 0.7883\n",
      "Epoch 2/15\n",
      "858/858 [==============================] - 5s 6ms/step - loss: 0.0599 - accuracy: 0.9972 - val_loss: 0.7588 - val_accuracy: 0.7959\n",
      "Epoch 3/15\n",
      "858/858 [==============================] - 3s 3ms/step - loss: 0.0152 - accuracy: 0.9999 - val_loss: 0.8301 - val_accuracy: 0.7981\n",
      "Epoch 4/15\n",
      "858/858 [==============================] - 3s 3ms/step - loss: 0.0063 - accuracy: 1.0000 - val_loss: 0.8805 - val_accuracy: 0.8037\n",
      "Epoch 5/15\n",
      "858/858 [==============================] - 3s 4ms/step - loss: 0.0032 - accuracy: 1.0000 - val_loss: 0.9470 - val_accuracy: 0.8001\n",
      "Epoch 6/15\n",
      "858/858 [==============================] - 3s 4ms/step - loss: 0.0017 - accuracy: 1.0000 - val_loss: 0.9870 - val_accuracy: 0.7981\n",
      "Epoch 7/15\n",
      "858/858 [==============================] - 3s 3ms/step - loss: 0.0010 - accuracy: 1.0000 - val_loss: 1.0382 - val_accuracy: 0.8023\n",
      "Epoch 8/15\n",
      "858/858 [==============================] - 3s 3ms/step - loss: 6.1576e-04 - accuracy: 1.0000 - val_loss: 1.1077 - val_accuracy: 0.8040\n",
      "Epoch 9/15\n",
      "858/858 [==============================] - 3s 3ms/step - loss: 3.9228e-04 - accuracy: 1.0000 - val_loss: 1.1268 - val_accuracy: 0.8062\n",
      "Epoch 10/15\n",
      "858/858 [==============================] - 4s 4ms/step - loss: 2.4677e-04 - accuracy: 1.0000 - val_loss: 1.1771 - val_accuracy: 0.8026\n",
      "Epoch 11/15\n",
      "858/858 [==============================] - 3s 3ms/step - loss: 1.5425e-04 - accuracy: 1.0000 - val_loss: 1.2197 - val_accuracy: 0.8042\n",
      "Epoch 12/15\n",
      "858/858 [==============================] - 3s 3ms/step - loss: 1.0125e-04 - accuracy: 1.0000 - val_loss: 1.2731 - val_accuracy: 0.8073\n",
      "Epoch 13/15\n",
      "858/858 [==============================] - 3s 3ms/step - loss: 7.5055e-05 - accuracy: 1.0000 - val_loss: 1.3739 - val_accuracy: 0.7981\n",
      "Epoch 14/15\n",
      "858/858 [==============================] - 3s 4ms/step - loss: 0.0089 - accuracy: 0.9973 - val_loss: 1.5565 - val_accuracy: 0.7814\n",
      "Epoch 15/15\n",
      "858/858 [==============================] - 3s 4ms/step - loss: 1.1988e-04 - accuracy: 1.0000 - val_loss: 1.5285 - val_accuracy: 0.7858\n"
     ]
    }
   ],
   "source": [
    "# Define the CNN model architecture\n",
    "cnn_model = tf.keras.Sequential([\n",
    "    # Convolutional layer with 16 filters, each of size (3, 3), and ELU activation\n",
    "    tf.keras.layers.Conv2D(64, (3, 3), activation='elu', input_shape=(28, 28, 1)),\n",
    "\n",
    "    # MaxPooling layer with a pool size of (2, 2)\n",
    "    tf.keras.layers.MaxPooling2D(2, 2),\n",
    "\n",
    "    # Flatten layer to convert 2D feature maps to a 1D vector\n",
    "    tf.keras.layers.Flatten(),\n",
    "\n",
    "    # Fully connected (dense) output layer with 26 units and softmax activation\n",
    "    tf.keras.layers.Dense(26, activation='softmax')\n",
    "])\n",
    "\n",
    "# Compile the CNN model\n",
    "cnn_model.compile(optimizer='adam', loss='sparse_categorical_crossentropy', metrics=['accuracy'])\n",
    "\n",
    "# Train the CNN model and store the training history\n",
    "cnn_baseline_history = cnn_model.fit(X_train, full_train_labels, epochs=15, validation_data=(X_val, y_val))"
   ]
  },
  {
   "cell_type": "markdown",
   "metadata": {
    "id": "LMDIVAlQTV5X"
   },
   "source": [
    "#### Summary of CNN Model Architecture\n",
    "\n",
    "- Input: Grayscale images of size 28x28 pixels.\n",
    "- Layers:\n",
    "\n",
    "      i) Conv2D: 64 filters of size (3, 3) with ELU activation.\n",
    "      ii) MaxPooling2D: Pool size of (2, 2).\n",
    "      iii) Flatten: Converts 2D feature maps to 1D vector.\n",
    "      iv) Dense: 26 units with softmax activation.\n",
    "      v) Compilation: Uses adam optimizer and sparse_categorical_crossentropy loss with accuracy as the metric.\n",
    "      vi) Training: 15 epochs with validation.\n",
    "\n",
    "- This architecture is tailored for a 26-class classification."
   ]
  },
  {
   "cell_type": "code",
   "execution_count": null,
   "metadata": {
    "colab": {
     "base_uri": "https://localhost:8080/",
     "height": 574
    },
    "id": "neDtlGM0w9w9",
    "outputId": "b77b070b-b130-45de-e7f2-c06862c988c3"
   },
   "outputs": [
    {
     "data": {
      "image/png": "[encoded data removed]",
      "text/plain": [
       "<Figure size 1000x600 with 1 Axes>"
      ]
     },
     "metadata": {},
     "output_type": "display_data"
    }
   ],
   "source": [
    "# Call the function to plot CNN baseline training history\n",
    "plot_training_history(cnn_baseline_history, title=\"CNN Training History\")"
   ]
  },
  {
   "cell_type": "markdown",
   "metadata": {
    "id": "Hufbw0sDUfAg"
   },
   "source": [
    "#### Analysis:\n",
    "\n",
    "**Training Accuracy:** Starts at 81.07% and quickly rises to near 100% by Epoch 2 and stays consistent, with a minor dip at Epoch 13.\n",
    "\n",
    "**Validation Accuracy:** Begins at 77.66% in Epoch 1 and fluctuates between 77% to 80.5% across 15 epochs.\n",
    "\n",
    "**Training Loss:** Begins high at 0.7726, drastically drops by Epoch 2, and remains minimal, with a noticeable spike at Epoch 13.\n",
    "\n",
    "**Validation Loss:** Starts at 0.7406 and shows an increasing trend throughout the epochs.\n",
    "\n",
    "In essence, while training accuracy remains near-perfect, validation accuracy doesn't see much improvement, indicating possible overfitting. Similarly, the consistent rise in validation loss across epochs supports this overfitting observation."
   ]
  },
  {
   "cell_type": "markdown",
   "metadata": {
    "id": "OLdQYLIEyE6M"
   },
   "source": [
    "#### Evaluate and Print Validation Performance of CNN Baseline Model\n"
   ]
  },
  {
   "cell_type": "code",
   "execution_count": null,
   "metadata": {
    "colab": {
     "base_uri": "https://localhost:8080/"
    },
    "id": "n9paTyenyDUT",
    "outputId": "3c7f038a-bcd8-4fd3-b43c-35737f0e03ae"
   },
   "outputs": [
    {
     "name": "stdout",
     "output_type": "stream",
     "text": [
      "113/113 [==============================] - 0s 2ms/step - loss: 1.1478 - accuracy: 0.7741\n",
      "Validation Loss of DNN: 1.1478\n",
      "Validation Accuracy of DNN: 0.7741\n"
     ]
    }
   ],
   "source": [
    "dnn_loss, dnn_accuracy = dnn_baseline_model.evaluate(X_val, y_val)\n",
    "print(f\"Validation Loss of DNN: {dnn_loss:.4f}\")\n",
    "print(f\"Validation Accuracy of DNN: {dnn_accuracy:.4f}\")"
   ]
  },
  {
   "cell_type": "markdown",
   "metadata": {
    "id": "zFwPSgkcyPBI"
   },
   "source": [
    "####  Evaluate and Display Metrics at Best Validation Epoch for DNN Baseline Model"
   ]
  },
  {
   "cell_type": "code",
   "execution_count": null,
   "metadata": {
    "colab": {
     "base_uri": "https://localhost:8080/"
    },
    "id": "8_BRs7wZnjGO",
    "outputId": "f9780916-fc8f-4486-ed85-39b5a7db5f37"
   },
   "outputs": [
    {
     "name": "stdout",
     "output_type": "stream",
     "text": [
      "Training accuracy at best validation epoch for CNN = 1.000\n",
      "Validation accuracy at best validation epoch for CNN = 0.807\n",
      "Training loss at best validation epoch for CNN = 0.000\n",
      "Validation loss at best validation epoch for CNN = 1.273\n"
     ]
    }
   ],
   "source": [
    "# Getting the epoch at which validation accuracy was highest\n",
    "idx_of_max_val_acc_cnn = np.argmax(cnn_baseline_history.history['val_accuracy'])\n",
    "\n",
    "# Extracting and displaying key metrics at this epoch\n",
    "corresponding_train_acc_cnn = cnn_baseline_history.history['accuracy'][idx_of_max_val_acc_cnn]\n",
    "print(f\"Training accuracy at best validation epoch for CNN = {corresponding_train_acc_cnn:.3f}\")\n",
    "\n",
    "max_val_acc_at_best_epoch_cnn = cnn_baseline_history.history['val_accuracy'][idx_of_max_val_acc_cnn]\n",
    "print(f\"Validation accuracy at best validation epoch for CNN = {max_val_acc_at_best_epoch_cnn:.3f}\")\n",
    "\n",
    "corresponding_train_loss_cnn = cnn_baseline_history.history['loss'][idx_of_max_val_acc_cnn]\n",
    "print(f\"Training loss at best validation epoch for CNN = {corresponding_train_loss_cnn:.3f}\")\n",
    "\n",
    "corresponding_val_loss_cnn = cnn_baseline_history.history['val_loss'][idx_of_max_val_acc_cnn]\n",
    "print(f\"Validation loss at best validation epoch for CNN = {corresponding_val_loss_cnn:.3f}\")\n"
   ]
  },
  {
   "cell_type": "markdown",
   "metadata": {
    "id": "M18a_u9IU-I1"
   },
   "source": [
    "#### Summary for DNN and CNN Baseline Models\n",
    "\n",
    "while both models achieve high training accuracy, the DNN achieves a maximum validation accuracy of 71.1%, whereas the CNN fluctuates around the 77-80.5% range. Both models show signs of overfitting, as evidenced by the discrepancies between training and validation metrics. The CNN model, with its consistent rise in validation loss and better validation accuracy, might be slightly more robust than the DNN for this specific task. However, both models might benefit from regularization techniques or other improvements to mitigate overfitting."
   ]
  },
  {
   "cell_type": "markdown",
   "metadata": {
    "id": "vNQPV0D3zM0m"
   },
   "source": [
    "### Model Optimization"
   ]
  },
  {
   "cell_type": "markdown",
   "metadata": {
    "id": "fyEuED-6z0qK"
   },
   "source": [
    "#### CNN Model Factory Function"
   ]
  },
  {
   "cell_type": "code",
   "execution_count": null,
   "metadata": {
    "id": "xzEsY4AlkzbD"
   },
   "outputs": [],
   "source": [
    "import tensorflow.keras as keras\n",
    "from tensorflow.keras.layers import Conv2D, MaxPooling2D, Flatten, Dense, Dropout, BatchNormalization\n",
    "\n",
    "def model_cnn_factory(hiddensizes, optimizer, num_layers=1, actfn='elu', dense_actfn='elu',\n",
    "                     learningrate=0.001, dropout_rate=0, use_pooling=True, use_batchnorm=False):\n",
    "    \"\"\"\n",
    "    CNN model based on provided parameters.\n",
    "    \"\"\"\n",
    "\n",
    "    model = keras.models.Sequential()\n",
    "\n",
    "    # Using the hiddensizes to determine the filters for each layer\n",
    "    for i in range(len(hiddensizes)):\n",
    "        if i == 0:  # Only for the first layer, set the input_shape\n",
    "            model.add(Conv2D(filters=hiddensizes[i], kernel_size=3, activation=actfn, padding=\"same\", input_shape=(28, 28, 1)))\n",
    "        else:\n",
    "            model.add(Conv2D(filters=hiddensizes[i], kernel_size=3, activation=actfn, padding=\"same\"))\n",
    "\n",
    "        if use_batchnorm:\n",
    "            model.add(BatchNormalization())\n",
    "        if dropout_rate > 0:\n",
    "            model.add(Dropout(dropout_rate))\n",
    "        if use_pooling and model.layers[-1].output_shape[1] > 2:  # only pool if the spatial dimension is larger than 2\n",
    "            model.add(MaxPooling2D(pool_size=2))\n",
    "\n",
    "    model.add(Flatten())\n",
    "    model.add(Dense(128, activation=dense_actfn))\n",
    "    if dropout_rate > 0:\n",
    "        model.add(Dropout(dropout_rate))\n",
    "    model.add(Dense(26, activation='softmax'))\n",
    "\n",
    "    model.compile(loss=\"sparse_categorical_crossentropy\", optimizer=optimizer(learning_rate=learningrate), metrics=[\"accuracy\"])\n",
    "\n",
    "    return model\n"
   ]
  },
  {
   "cell_type": "markdown",
   "metadata": {
    "id": "PvQe3qAh86dv"
   },
   "source": []
  },
  {
   "cell_type": "markdown",
   "metadata": {
    "id": "urh6cv3Yz4YV"
   },
   "source": [
    "#### DNN Model Factory Function"
   ]
  },
  {
   "cell_type": "code",
   "execution_count": null,
   "metadata": {
    "id": "tNykBdh-AYOG"
   },
   "outputs": [],
   "source": [
    "import keras\n",
    "from keras.regularizers import l1, l2\n",
    "from keras.layers import Dense, Flatten, BatchNormalization, Activation, Dropout\n",
    "from keras.models import Sequential\n",
    "from keras.initializers import he_uniform\n",
    "from keras.regularizers import l1_l2\n",
    "\n",
    "def model_dense_factory(hiddensizes, optimizer, num_layers=1, actfn='relu', output_actfn=\"softmax\", learningrate=0.01, dropout_rate=0.4, l1_reg=0.00001, l2_reg=0.0001):\n",
    "    # Create a Sequential model\n",
    "    model = keras.models.Sequential()\n",
    "\n",
    "\n",
    "    # Add Flatten layer to convert 2D input data to 1D vector\n",
    "    model.add(keras.layers.Flatten(input_shape=[28, 28]))    # Always have same sized inputs\n",
    "\n",
    "    # Loop to add dense layers based on hiddensizes\n",
    "    for n in hiddensizes:\n",
    "        model.add(keras.layers.BatchNormalization())\n",
    "\n",
    "        model.add(keras.layers.Dense(n, activation=actfn,\n",
    "                                 kernel_regularizer=l2(l2_reg),\n",
    "                                 activity_regularizer=l1(l1_reg),\n",
    "                                 kernel_initializer=he_uniform()))  # Using He normal initialization\n",
    "\n",
    "    model.add(Dropout(rate=dropout_rate))\n",
    "\n",
    "    # Add output Dense layer with specified activation\n",
    "    model.add(keras.layers.Dense(26, activation=output_actfn,kernel_initializer=he_uniform()))   # Always have 26 classes\n",
    "\n",
    "    # Compile the model with specified loss, optimizer, and metrics\n",
    "    model.compile(loss=\"sparse_categorical_crossentropy\", optimizer=optimizer(learning_rate=learningrate), metrics=[\"accuracy\"])\n",
    "\n",
    "    return model"
   ]
  },
  {
   "cell_type": "code",
   "execution_count": null,
   "metadata": {
    "id": "NGCwhOkTEe5d"
   },
   "outputs": [],
   "source": [
    "# Early stopping callback - this is executed when fitting and will stop and restore best result\n",
    "early_stopping_cb = keras.callbacks.EarlyStopping(monitor='val_loss', patience=5, restore_best_weights=True)"
   ]
  },
  {
   "cell_type": "markdown",
   "metadata": {
    "id": "bvOzv8nQ0Ldq"
   },
   "source": [
    "#### Model Training and Evaluation Function"
   ]
  },
  {
   "cell_type": "code",
   "execution_count": null,
   "metadata": {
    "id": "Ts7DAT_CDrOi"
   },
   "outputs": [],
   "source": [
    "def do_all(model_type, model_factory, hiddensizes, actfn, optimizer, learningrate, num_layers,\n",
    "           X_train, y_train, X_val, y_val, n_train, n_valid, n_epochs, batch_size, further_callbacks=[]):\n",
    "    \"\"\"\n",
    "    Train and evaluate a neural network model.\n",
    "\n",
    "    Parameters:\n",
    "    - model_type: Type of the model ('DNN' or 'CNN').\n",
    "    - model_factory: A function to create the model architecture.\n",
    "    - hiddensizes: List of filter numbers or dense layer sizes.\n",
    "    - actfn: Activation function for the model.\n",
    "    - optimizer: Optimizer function for training.\n",
    "    - learningrate: Learning rate for the optimizer.\n",
    "    - num_layers: Number of layers in the model.\n",
    "    - X_train: Training data.\n",
    "    - X_val: Validation data.\n",
    "    - n_train: Number of training samples.\n",
    "    - n_valid: Number of validation samples.\n",
    "    - n_epochs: Number of training epochs.\n",
    "    - batch_size: Batch size for training.\n",
    "    - further_callbacks: Additional callbacks for training.\n",
    "\n",
    "    Returns:\n",
    "    - Maximum validation accuracy, training history, and trained model.\n",
    "    \"\"\"\n",
    "    if further_callbacks:\n",
    "        callbacks = further_callbacks\n",
    "    else:\n",
    "        callbacks = [early_stopping_cb]  # Assuming early_stopping_cb is defined elsewhere\n",
    "\n",
    "    if model_type == \"DNN\":\n",
    "        input_train = X_train[:n_train]\n",
    "        input_val = X_val[:n_valid]\n",
    "    elif model_type == \"CNN\":\n",
    "        input_train = X_train[:n_train].reshape((-1, 28, 28, 1))\n",
    "        input_val = X_val[:n_valid].reshape((-1, 28, 28, 1))\n",
    "    else:\n",
    "        raise ValueError(\"Unknown model_type\")\n",
    "\n",
    "\n",
    "\n",
    "\n",
    "    # Create the model using the specified factory function\n",
    "    model = model_factory(hiddensizes, optimizer, num_layers=num_layers, actfn=actfn, learningrate=learningrate)\n",
    "\n",
    "    # Train the model and store training history\n",
    "    history = model.fit(input_train, y_train[:n_train], epochs=n_epochs,\n",
    "                        batch_size=batch_size, callbacks=callbacks,\n",
    "                        validation_data=(input_val, y_val[:n_valid]))\n",
    "\n",
    "    # Get the maximum validation accuracy from the training history\n",
    "    max_val_acc = np.max(history.history['val_accuracy'])\n",
    "\n",
    "    # Return the maximum validation accuracy, training history, and the trained model\n",
    "    return max_val_acc, history, model"
   ]
  },
  {
   "cell_type": "markdown",
   "metadata": {
    "id": "tNeMYqMr0ez2"
   },
   "source": [
    "#### Hyperparameter Lists for Experimentation"
   ]
  },
  {
   "cell_type": "code",
   "execution_count": null,
   "metadata": {
    "id": "hHdB0fyccAoH"
   },
   "outputs": [],
   "source": [
    "# List of learning rates for optimizer\n",
    "learning_rates = [0.01, 0.001]\n",
    "\n",
    "# List of optimizer classes to be considered\n",
    "optimizer_classes = [keras.optimizers.Adagrad, keras.optimizers.Adam, keras.optimizers.Nadam]\n",
    "\n",
    "# List of numbers of layers for model architecture\n",
    "num_layers_list = [3, 6]"
   ]
  },
  {
   "cell_type": "markdown",
   "metadata": {
    "id": "Yi-QUm72xfNB"
   },
   "source": [
    "#### My Approach and Key Observations before starting to implement DNN and CNN Models:\n",
    "\n",
    "Throughout my model refinement process, I undertook an exhaustive exploration of various strategies to enhance the performance of both the DNN (Deep Neural Network) and CNN (Convolutional Neural Network) architectures. Here's a recap of the methodologies employed and the significant insights gained:\n",
    "\n",
    "**DNN Approach:**\n",
    "\n",
    "In crafting the DNN model, I adopted a systematic approach that encompassed the following components:\n",
    "\n",
    "1. **Learning Rates and Optimizers**: I meticulously varied learning rates, probing values of 0.01 and 0.001. Additionally, I experimented with different optimizer classes, including Adagrad, Adam, and Nadam.\n",
    "\n",
    "2. **Hidden Layers Configuration**: I probed the effect of diverse hidden layer counts - both 3 and 6 hidden layers - to discern their impact on model performance.\n",
    "\n",
    "3. **Batch Size and Activation Functions**: I maintained a batch size of 128 while exploring the effects of activation functions, which included ReLU, ELU, sigmoid, and tanh.\n",
    "\n",
    "4. **Activation Function Insights**: After a rigorous assessment, ReLU emerged as the optimal activation function for this specific context.\n",
    "\n",
    "5. **Regularization Techniques**: To counter overfitting, I introduced kernel regularization (L2_reg) and activity regularization (L1_reg) within the dense layers.\n",
    "\n",
    "6. **Batch Normalization and Dropout**: I strategically incorporated batch normalization before activation layers and utilized dropout layers for added model robustness.\n",
    "\n",
    "**CNN Approach:**\n",
    "\n",
    "Similarly, the CNN model's optimization encompassed the following strategic steps:\n",
    "\n",
    "1. **Shared Parameters and Hidden Layer Sizes**: I aligned the learning rates, optimizers, and hidden layer counts with the DNN approach while modifying hidden layer sizes to [256, 128, 256] for the CNN context.\n",
    "\n",
    "2. **Activation Function Consistency**: Just as in the DNN approach, I validated ReLU as the optimal activation function for the CNN architecture.\n",
    "\n",
    "3. **Convolutional Layer Design**: The convolutional layers were skillfully structured using the specified hidden sizes and activation functions. Batch normalization and dropout were thoughtfully incorporated for regularization.\n",
    "\n",
    "4. **Pooling and Flattening Layers**: Employing pooling layers where applicable, I ensured their application for spatial dimensions exceeding 2. This was followed by a flattening layer and a dense layer with the chosen activation function (dense_actfn).\n",
    "\n",
    "5. **Output and Compilation**: The final dense layer comprised 26 units, employing a softmax activation function for the classification task. Compilation involved the sparse categorical cross-entropy loss function and the selected optimizer with the corresponding learning rate.\n",
    "\n",
    "**Kernel Initialization Insights:**\n",
    "\n",
    "I rigorously examined various kernel initialization techniques, including he_uniform() and he_normal(). Following meticulous analysis, he_normal() was discerned as the superior choice due to its enhanced impact on model accuracy and convergence.\n",
    "\n",
    "**Conclusion:**\n",
    "\n",
    "By amalgamating these strategic insights into both the DNN and CNN architectures, along with the adoption of he_normal() as the kernel initializer, my intent was to engineer models that not only deliver heightened accuracy and convergence but also exhibit robust generalization capabilities. This comprehensive approach was meticulously tailored to optimize model performance in the context of the given tasks."
   ]
  },
  {
   "cell_type": "code",
   "execution_count": null,
   "metadata": {
    "id": "llXNBchIChCi"
   },
   "outputs": [],
   "source": [
    "from tensorflow.keras import backend as K\n",
    "\n",
    "def perform_hyperparameter_search(model_type, model_factory, X_train, y_train, X_val, y_val, learning_rates, optimizer_classes, hiddensizes, num_layers_list, actfn='relu', n_epochs=15, batch_size=128, further_callbacks=[]):\n",
    "    \"\"\"\n",
    "    Perform hyperparameter search and evaluate models with various hyperparameters.\n",
    "\n",
    "    Parameters:\n",
    "    - model_type: Type of the model ('DNN' or 'CNN').\n",
    "    - model_factory: A function to create the model architecture.\n",
    "    - X_train: Training data.\n",
    "    - y_train: Training labels.\n",
    "    - X_val: Validation data.\n",
    "    - y_val: Validation labels.\n",
    "    - learning_rates: List of learning rates for optimizer.\n",
    "    - optimizer_classes: List of optimizer classes.\n",
    "    - hiddensizes: List of filter numbers or dense layer sizes.\n",
    "    - num_layers_list: List of numbers of layers in the model.\n",
    "    - actfn: Activation function for the model.\n",
    "    - n_epochs: Number of training epochs.\n",
    "    - batch_size: Batch size for training.\n",
    "    - further_callbacks: Additional callbacks for training.\n",
    "\n",
    "    Returns:\n",
    "    - Dictionary of results with hyperparameters and corresponding evaluation metrics.\n",
    "    \"\"\"\n",
    "    results = {}\n",
    "    optimizer_setups = [(optimizer, lr, num_layers) for optimizer in optimizer_classes for lr in learning_rates for num_layers in num_layers_list]\n",
    "\n",
    "    for optimizer_setup in optimizer_setups:\n",
    "        optimizer_class, current_lr, num_layers = optimizer_setup\n",
    "        print(f\"Training {model_type} with learning rate: {current_lr}, optimizer: {optimizer_class.__name__}, num_layers: {num_layers}\")\n",
    "\n",
    "        # Train and evaluate model for given hyperparameters\n",
    "        max_val_acc, history, model = do_all(\n",
    "            model_type=model_type,\n",
    "            model_factory=model_factory,\n",
    "            hiddensizes=hiddensizes,\n",
    "            actfn=actfn,\n",
    "            optimizer=optimizer_class,\n",
    "            learningrate=current_lr,\n",
    "            num_layers=num_layers,\n",
    "            X_train=X_train,\n",
    "            y_train = y_train,\n",
    "            X_val=X_val,\n",
    "            y_val=y_val,\n",
    "            n_train=len(X_train),\n",
    "            n_valid=len(X_val),\n",
    "            n_epochs=n_epochs,\n",
    "            batch_size=batch_size,\n",
    "            further_callbacks=further_callbacks\n",
    "        )\n",
    "\n",
    "        # Clear the backend session to free up memory and resources\n",
    "        K.clear_session()\n",
    "\n",
    "        # Store evaluation results in a dictionary\n",
    "        key = f\"LR={current_lr}_Opt={optimizer_class.__name__}_Layers={num_layers}\"\n",
    "        results[key] = {\n",
    "            'max_val_acc': max_val_acc,\n",
    "            'best_epoch': np.argmax(history.history['val_accuracy']) + 1\n",
    "        }\n",
    "\n",
    "    # Optionally sort and return results\n",
    "    sorted_results = dict(sorted(results.items(), key=lambda item: item[1]['max_val_acc'], reverse=True))\n",
    "\n",
    "    return sorted_results\n"
   ]
  },
  {
   "cell_type": "markdown",
   "metadata": {
    "id": "VSB0q5Jk0-Ar"
   },
   "source": [
    "#### Hyperparameter search for Best DNN model"
   ]
  },
  {
   "cell_type": "code",
   "execution_count": null,
   "metadata": {
    "colab": {
     "base_uri": "https://localhost:8080/"
    },
    "id": "TEaqw-gg-CZA",
    "outputId": "2a28fd1a-06e1-4d75-9801-c04ca21a7f99"
   },
   "outputs": [
    {
     "name": "stdout",
     "output_type": "stream",
     "text": [
      "Training DNN with learning rate: 0.01, optimizer: Adagrad, num_layers: 3\n",
      "Epoch 1/15\n",
      "215/215 [==============================] - 4s 10ms/step - loss: 2.0910 - accuracy: 0.4584 - val_loss: 2.0665 - val_accuracy: 0.4428\n",
      "Epoch 2/15\n",
      "215/215 [==============================] - 3s 12ms/step - loss: 0.7107 - accuracy: 0.8458 - val_loss: 1.2870 - val_accuracy: 0.6723\n",
      "Epoch 3/15\n",
      "215/215 [==============================] - 2s 10ms/step - loss: 0.3723 - accuracy: 0.9508 - val_loss: 1.1918 - val_accuracy: 0.7072\n",
      "Epoch 4/15\n",
      "215/215 [==============================] - 2s 8ms/step - loss: 0.2702 - accuracy: 0.9798 - val_loss: 1.1564 - val_accuracy: 0.7370\n",
      "Epoch 5/15\n",
      "215/215 [==============================] - 2s 8ms/step - loss: 0.2269 - accuracy: 0.9891 - val_loss: 1.1871 - val_accuracy: 0.7362\n",
      "Epoch 6/15\n",
      "215/215 [==============================] - 2s 8ms/step - loss: 0.2065 - accuracy: 0.9933 - val_loss: 1.2224 - val_accuracy: 0.7485\n",
      "Epoch 7/15\n",
      "215/215 [==============================] - 2s 8ms/step - loss: 0.1915 - accuracy: 0.9960 - val_loss: 1.2017 - val_accuracy: 0.7535\n",
      "Epoch 8/15\n",
      "215/215 [==============================] - 2s 8ms/step - loss: 0.1886 - accuracy: 0.9961 - val_loss: 1.2076 - val_accuracy: 0.7619\n",
      "Epoch 9/15\n",
      "215/215 [==============================] - 3s 12ms/step - loss: 0.1818 - accuracy: 0.9971 - val_loss: 1.2121 - val_accuracy: 0.7554\n",
      "Training DNN with learning rate: 0.01, optimizer: Adagrad, num_layers: 6\n",
      "Epoch 1/15\n",
      "215/215 [==============================] - 4s 10ms/step - loss: 2.0462 - accuracy: 0.4707 - val_loss: 1.8616 - val_accuracy: 0.5075\n",
      "Epoch 2/15\n",
      "215/215 [==============================] - 2s 8ms/step - loss: 0.6934 - accuracy: 0.8492 - val_loss: 1.1307 - val_accuracy: 0.7144\n",
      "Epoch 3/15\n",
      "215/215 [==============================] - 2s 8ms/step - loss: 0.3799 - accuracy: 0.9473 - val_loss: 1.0433 - val_accuracy: 0.7379\n",
      "Epoch 4/15\n",
      "215/215 [==============================] - 2s 8ms/step - loss: 0.2765 - accuracy: 0.9772 - val_loss: 1.0213 - val_accuracy: 0.7532\n",
      "Epoch 5/15\n",
      "215/215 [==============================] - 2s 10ms/step - loss: 0.2326 - accuracy: 0.9881 - val_loss: 1.0354 - val_accuracy: 0.7577\n",
      "Epoch 6/15\n",
      "215/215 [==============================] - 3s 12ms/step - loss: 0.2081 - accuracy: 0.9928 - val_loss: 1.0232 - val_accuracy: 0.7752\n",
      "Epoch 7/15\n",
      "215/215 [==============================] - 2s 8ms/step - loss: 0.1959 - accuracy: 0.9945 - val_loss: 1.0266 - val_accuracy: 0.7658\n",
      "Epoch 8/15\n",
      "215/215 [==============================] - 2s 8ms/step - loss: 0.1881 - accuracy: 0.9961 - val_loss: 1.0335 - val_accuracy: 0.7808\n",
      "Epoch 9/15\n",
      "215/215 [==============================] - 2s 8ms/step - loss: 0.1836 - accuracy: 0.9969 - val_loss: 1.0481 - val_accuracy: 0.7850\n",
      "Training DNN with learning rate: 0.001, optimizer: Adagrad, num_layers: 3\n",
      "Epoch 1/15\n",
      "215/215 [==============================] - 4s 10ms/step - loss: 3.8152 - accuracy: 0.1035 - val_loss: 3.2932 - val_accuracy: 0.1076\n",
      "Epoch 2/15\n",
      "215/215 [==============================] - 2s 10ms/step - loss: 2.9644 - accuracy: 0.2211 - val_loss: 2.7641 - val_accuracy: 0.2861\n",
      "Epoch 3/15\n",
      "215/215 [==============================] - 2s 11ms/step - loss: 2.5266 - accuracy: 0.3213 - val_loss: 2.5091 - val_accuracy: 0.3433\n",
      "Epoch 4/15\n",
      "215/215 [==============================] - 2s 8ms/step - loss: 2.2300 - accuracy: 0.4021 - val_loss: 2.3268 - val_accuracy: 0.3991\n",
      "Epoch 5/15\n",
      "215/215 [==============================] - 2s 8ms/step - loss: 1.9950 - accuracy: 0.4671 - val_loss: 2.1776 - val_accuracy: 0.4487\n",
      "Epoch 6/15\n",
      "215/215 [==============================] - 2s 8ms/step - loss: 1.8055 - accuracy: 0.5234 - val_loss: 2.0601 - val_accuracy: 0.4799\n",
      "Epoch 7/15\n",
      "215/215 [==============================] - 2s 9ms/step - loss: 1.6493 - accuracy: 0.5751 - val_loss: 1.9600 - val_accuracy: 0.5059\n",
      "Epoch 8/15\n",
      "215/215 [==============================] - 2s 8ms/step - loss: 1.5023 - accuracy: 0.6165 - val_loss: 1.8733 - val_accuracy: 0.5315\n",
      "Epoch 9/15\n",
      "215/215 [==============================] - 3s 15ms/step - loss: 1.3833 - accuracy: 0.6558 - val_loss: 1.7965 - val_accuracy: 0.5399\n",
      "Epoch 10/15\n",
      "215/215 [==============================] - 3s 16ms/step - loss: 1.2822 - accuracy: 0.6870 - val_loss: 1.7322 - val_accuracy: 0.5627\n",
      "Epoch 11/15\n",
      "215/215 [==============================] - 3s 14ms/step - loss: 1.1909 - accuracy: 0.7154 - val_loss: 1.6794 - val_accuracy: 0.5759\n",
      "Epoch 12/15\n",
      "215/215 [==============================] - 3s 15ms/step - loss: 1.1054 - accuracy: 0.7379 - val_loss: 1.6257 - val_accuracy: 0.5956\n",
      "Epoch 13/15\n",
      "215/215 [==============================] - 3s 16ms/step - loss: 1.0337 - accuracy: 0.7619 - val_loss: 1.5868 - val_accuracy: 0.6012\n",
      "Epoch 14/15\n",
      "215/215 [==============================] - 4s 18ms/step - loss: 0.9654 - accuracy: 0.7852 - val_loss: 1.5453 - val_accuracy: 0.6143\n",
      "Epoch 15/15\n",
      "215/215 [==============================] - 3s 15ms/step - loss: 0.9104 - accuracy: 0.8017 - val_loss: 1.5093 - val_accuracy: 0.6235\n",
      "Training DNN with learning rate: 0.001, optimizer: Adagrad, num_layers: 6\n",
      "Epoch 1/15\n",
      "215/215 [==============================] - 4s 10ms/step - loss: 3.8913 - accuracy: 0.0918 - val_loss: 3.3120 - val_accuracy: 0.0948\n",
      "Epoch 2/15\n",
      "215/215 [==============================] - 2s 9ms/step - loss: 3.0332 - accuracy: 0.2038 - val_loss: 2.7856 - val_accuracy: 0.2552\n",
      "Epoch 3/15\n",
      "215/215 [==============================] - 3s 12ms/step - loss: 2.5731 - accuracy: 0.3060 - val_loss: 2.4784 - val_accuracy: 0.3461\n",
      "Epoch 4/15\n",
      "215/215 [==============================] - 2s 9ms/step - loss: 2.2591 - accuracy: 0.3829 - val_loss: 2.3045 - val_accuracy: 0.3918\n",
      "Epoch 5/15\n",
      "215/215 [==============================] - 2s 8ms/step - loss: 2.0297 - accuracy: 0.4520 - val_loss: 2.1741 - val_accuracy: 0.4345\n",
      "Epoch 6/15\n",
      "215/215 [==============================] - 2s 8ms/step - loss: 1.8184 - accuracy: 0.5128 - val_loss: 2.0654 - val_accuracy: 0.4629\n",
      "Epoch 7/15\n",
      "215/215 [==============================] - 2s 8ms/step - loss: 1.6515 - accuracy: 0.5648 - val_loss: 1.9882 - val_accuracy: 0.4844\n",
      "Epoch 8/15\n",
      "215/215 [==============================] - 2s 8ms/step - loss: 1.5296 - accuracy: 0.6042 - val_loss: 1.9157 - val_accuracy: 0.5045\n",
      "Epoch 9/15\n",
      "215/215 [==============================] - 2s 9ms/step - loss: 1.4135 - accuracy: 0.6380 - val_loss: 1.8532 - val_accuracy: 0.5128\n",
      "Epoch 10/15\n",
      "215/215 [==============================] - 3s 12ms/step - loss: 1.2841 - accuracy: 0.6826 - val_loss: 1.7963 - val_accuracy: 0.5287\n",
      "Epoch 11/15\n",
      "215/215 [==============================] - 2s 9ms/step - loss: 1.2012 - accuracy: 0.7067 - val_loss: 1.7548 - val_accuracy: 0.5416\n",
      "Epoch 12/15\n",
      "215/215 [==============================] - 2s 8ms/step - loss: 1.1161 - accuracy: 0.7352 - val_loss: 1.7165 - val_accuracy: 0.5508\n",
      "Epoch 13/15\n",
      "215/215 [==============================] - 2s 8ms/step - loss: 1.0453 - accuracy: 0.7542 - val_loss: 1.6831 - val_accuracy: 0.5611\n",
      "Epoch 14/15\n",
      "215/215 [==============================] - 2s 8ms/step - loss: 0.9651 - accuracy: 0.7825 - val_loss: 1.6513 - val_accuracy: 0.5745\n",
      "Epoch 15/15\n",
      "215/215 [==============================] - 2s 8ms/step - loss: 0.9194 - accuracy: 0.7942 - val_loss: 1.6233 - val_accuracy: 0.5859\n",
      "Training DNN with learning rate: 0.01, optimizer: Adam, num_layers: 3\n",
      "Epoch 1/15\n",
      "215/215 [==============================] - 5s 14ms/step - loss: 1.3661 - accuracy: 0.6493 - val_loss: 2.0718 - val_accuracy: 0.6037\n",
      "Epoch 2/15\n",
      "215/215 [==============================] - 2s 8ms/step - loss: 0.6287 - accuracy: 0.9027 - val_loss: 1.4318 - val_accuracy: 0.7672\n",
      "Epoch 3/15\n",
      "215/215 [==============================] - 2s 9ms/step - loss: 0.5281 - accuracy: 0.9488 - val_loss: 1.3905 - val_accuracy: 0.7987\n",
      "Epoch 4/15\n",
      "215/215 [==============================] - 2s 8ms/step - loss: 0.5285 - accuracy: 0.9538 - val_loss: 1.7835 - val_accuracy: 0.7390\n",
      "Epoch 5/15\n",
      "215/215 [==============================] - 2s 8ms/step - loss: 0.5211 - accuracy: 0.9601 - val_loss: 1.6824 - val_accuracy: 0.7599\n",
      "Epoch 6/15\n",
      "215/215 [==============================] - 2s 8ms/step - loss: 0.5219 - accuracy: 0.9614 - val_loss: 1.5936 - val_accuracy: 0.7663\n",
      "Epoch 7/15\n",
      "215/215 [==============================] - 2s 11ms/step - loss: 0.5175 - accuracy: 0.9639 - val_loss: 1.7585 - val_accuracy: 0.7571\n",
      "Epoch 8/15\n",
      "215/215 [==============================] - 2s 11ms/step - loss: 0.5176 - accuracy: 0.9654 - val_loss: 1.8162 - val_accuracy: 0.7125\n",
      "Training DNN with learning rate: 0.01, optimizer: Adam, num_layers: 6\n",
      "Epoch 1/15\n",
      "215/215 [==============================] - 4s 10ms/step - loss: 1.4083 - accuracy: 0.6374 - val_loss: 2.1217 - val_accuracy: 0.5566\n",
      "Epoch 2/15\n",
      "215/215 [==============================] - 2s 9ms/step - loss: 0.6248 - accuracy: 0.9042 - val_loss: 1.5626 - val_accuracy: 0.7552\n",
      "Epoch 3/15\n",
      "215/215 [==============================] - 3s 12ms/step - loss: 0.5434 - accuracy: 0.9437 - val_loss: 1.8061 - val_accuracy: 0.7259\n",
      "Epoch 4/15\n",
      "215/215 [==============================] - 2s 9ms/step - loss: 0.4867 - accuracy: 0.9646 - val_loss: 1.6267 - val_accuracy: 0.7393\n",
      "Epoch 5/15\n",
      "215/215 [==============================] - 2s 8ms/step - loss: 0.5301 - accuracy: 0.9560 - val_loss: 1.9238 - val_accuracy: 0.7446\n",
      "Epoch 6/15\n",
      "215/215 [==============================] - 2s 8ms/step - loss: 0.5036 - accuracy: 0.9653 - val_loss: 1.2901 - val_accuracy: 0.7970\n",
      "Epoch 7/15\n",
      "215/215 [==============================] - 2s 8ms/step - loss: 0.4921 - accuracy: 0.9656 - val_loss: 1.5116 - val_accuracy: 0.7856\n",
      "Epoch 8/15\n",
      "215/215 [==============================] - 2s 8ms/step - loss: 0.5016 - accuracy: 0.9649 - val_loss: 1.6795 - val_accuracy: 0.7624\n",
      "Epoch 9/15\n",
      "215/215 [==============================] - 2s 8ms/step - loss: 0.5082 - accuracy: 0.9666 - val_loss: 1.5777 - val_accuracy: 0.7895\n",
      "Epoch 10/15\n",
      "215/215 [==============================] - 3s 13ms/step - loss: 0.5133 - accuracy: 0.9643 - val_loss: 1.6602 - val_accuracy: 0.7524\n",
      "Epoch 11/15\n",
      "215/215 [==============================] - 2s 9ms/step - loss: 0.5315 - accuracy: 0.9671 - val_loss: 1.5630 - val_accuracy: 0.7780\n",
      "Training DNN with learning rate: 0.001, optimizer: Adam, num_layers: 3\n",
      "Epoch 1/15\n",
      "215/215 [==============================] - 6s 14ms/step - loss: 1.6810 - accuracy: 0.5664 - val_loss: 1.4699 - val_accuracy: 0.6037\n",
      "Epoch 2/15\n",
      "215/215 [==============================] - 2s 8ms/step - loss: 0.3416 - accuracy: 0.9509 - val_loss: 1.0898 - val_accuracy: 0.7610\n",
      "Epoch 3/15\n",
      "215/215 [==============================] - 2s 8ms/step - loss: 0.2446 - accuracy: 0.9768 - val_loss: 1.0758 - val_accuracy: 0.7744\n",
      "Epoch 4/15\n",
      "215/215 [==============================] - 2s 8ms/step - loss: 0.2285 - accuracy: 0.9807 - val_loss: 1.1939 - val_accuracy: 0.7766\n",
      "Epoch 5/15\n",
      "215/215 [==============================] - 2s 8ms/step - loss: 0.1901 - accuracy: 0.9918 - val_loss: 1.1993 - val_accuracy: 0.7839\n",
      "Epoch 6/15\n",
      "215/215 [==============================] - 2s 8ms/step - loss: 0.2150 - accuracy: 0.9837 - val_loss: 1.1710 - val_accuracy: 0.7998\n",
      "Epoch 7/15\n",
      "215/215 [==============================] - 2s 11ms/step - loss: 0.1812 - accuracy: 0.9936 - val_loss: 1.1675 - val_accuracy: 0.7934\n",
      "Epoch 8/15\n",
      "215/215 [==============================] - 2s 11ms/step - loss: 0.1990 - accuracy: 0.9877 - val_loss: 1.2524 - val_accuracy: 0.7853\n",
      "Training DNN with learning rate: 0.001, optimizer: Adam, num_layers: 6\n",
      "Epoch 1/15\n",
      "215/215 [==============================] - 4s 10ms/step - loss: 1.6202 - accuracy: 0.5850 - val_loss: 1.5844 - val_accuracy: 0.5466\n",
      "Epoch 2/15\n",
      "215/215 [==============================] - 2s 8ms/step - loss: 0.3316 - accuracy: 0.9519 - val_loss: 1.1916 - val_accuracy: 0.7401\n",
      "Epoch 3/15\n",
      "215/215 [==============================] - 2s 8ms/step - loss: 0.2274 - accuracy: 0.9820 - val_loss: 1.2073 - val_accuracy: 0.7666\n",
      "Epoch 4/15\n",
      "215/215 [==============================] - 2s 8ms/step - loss: 0.2189 - accuracy: 0.9836 - val_loss: 1.1508 - val_accuracy: 0.7948\n",
      "Epoch 5/15\n",
      "215/215 [==============================] - 3s 13ms/step - loss: 0.1997 - accuracy: 0.9891 - val_loss: 1.3147 - val_accuracy: 0.7599\n",
      "Epoch 6/15\n",
      "215/215 [==============================] - 2s 9ms/step - loss: 0.2014 - accuracy: 0.9871 - val_loss: 1.2912 - val_accuracy: 0.7766\n",
      "Epoch 7/15\n",
      "215/215 [==============================] - 2s 8ms/step - loss: 0.1976 - accuracy: 0.9883 - val_loss: 1.3508 - val_accuracy: 0.7789\n",
      "Epoch 8/15\n",
      "215/215 [==============================] - 2s 8ms/step - loss: 0.1783 - accuracy: 0.9929 - val_loss: 1.3666 - val_accuracy: 0.7733\n",
      "Epoch 9/15\n",
      "215/215 [==============================] - 2s 9ms/step - loss: 0.1732 - accuracy: 0.9946 - val_loss: 1.3936 - val_accuracy: 0.7699\n",
      "Training DNN with learning rate: 0.01, optimizer: Nadam, num_layers: 3\n",
      "Epoch 1/15\n",
      "215/215 [==============================] - 7s 14ms/step - loss: 1.1420 - accuracy: 0.7148 - val_loss: 4.7559 - val_accuracy: 0.4727\n",
      "Epoch 2/15\n",
      "215/215 [==============================] - 2s 11ms/step - loss: 0.5053 - accuracy: 0.9336 - val_loss: 1.8858 - val_accuracy: 0.7167\n",
      "Epoch 3/15\n",
      "215/215 [==============================] - 3s 12ms/step - loss: 0.4691 - accuracy: 0.9553 - val_loss: 1.8425 - val_accuracy: 0.7510\n",
      "Epoch 4/15\n",
      "215/215 [==============================] - 3s 14ms/step - loss: 0.4683 - accuracy: 0.9616 - val_loss: 1.7467 - val_accuracy: 0.7259\n",
      "Epoch 5/15\n",
      "215/215 [==============================] - 3s 15ms/step - loss: 0.4503 - accuracy: 0.9681 - val_loss: 1.3747 - val_accuracy: 0.7819\n",
      "Epoch 6/15\n",
      "215/215 [==============================] - 3s 12ms/step - loss: 0.4783 - accuracy: 0.9657 - val_loss: 1.4083 - val_accuracy: 0.7786\n",
      "Epoch 7/15\n",
      "215/215 [==============================] - 3s 12ms/step - loss: 0.4471 - accuracy: 0.9726 - val_loss: 1.7666 - val_accuracy: 0.7239\n",
      "Epoch 8/15\n",
      "215/215 [==============================] - 3s 12ms/step - loss: 0.4843 - accuracy: 0.9674 - val_loss: 1.5757 - val_accuracy: 0.7833\n",
      "Epoch 9/15\n",
      "215/215 [==============================] - 3s 13ms/step - loss: 0.4634 - accuracy: 0.9713 - val_loss: 1.5976 - val_accuracy: 0.7819\n",
      "Epoch 10/15\n",
      "215/215 [==============================] - 3s 15ms/step - loss: 0.4800 - accuracy: 0.9710 - val_loss: 1.5585 - val_accuracy: 0.7722\n",
      "Training DNN with learning rate: 0.01, optimizer: Nadam, num_layers: 6\n",
      "Epoch 1/15\n",
      "215/215 [==============================] - 6s 13ms/step - loss: 1.1748 - accuracy: 0.7075 - val_loss: 2.3238 - val_accuracy: 0.5890\n",
      "Epoch 2/15\n",
      "215/215 [==============================] - 3s 12ms/step - loss: 0.4959 - accuracy: 0.9345 - val_loss: 1.4158 - val_accuracy: 0.7560\n",
      "Epoch 3/15\n",
      "215/215 [==============================] - 3s 16ms/step - loss: 0.4495 - accuracy: 0.9611 - val_loss: 1.5244 - val_accuracy: 0.7602\n",
      "Epoch 4/15\n",
      "215/215 [==============================] - 3s 13ms/step - loss: 0.4582 - accuracy: 0.9633 - val_loss: 2.3423 - val_accuracy: 0.6782\n",
      "Epoch 5/15\n",
      "215/215 [==============================] - 3s 12ms/step - loss: 0.4585 - accuracy: 0.9666 - val_loss: 1.8332 - val_accuracy: 0.7351\n",
      "Epoch 6/15\n",
      "215/215 [==============================] - 3s 12ms/step - loss: 0.4470 - accuracy: 0.9722 - val_loss: 1.3534 - val_accuracy: 0.8045\n",
      "Epoch 7/15\n",
      "215/215 [==============================] - 2s 11ms/step - loss: 0.4653 - accuracy: 0.9698 - val_loss: 1.4467 - val_accuracy: 0.8062\n",
      "Epoch 8/15\n",
      "215/215 [==============================] - 3s 15ms/step - loss: 0.4587 - accuracy: 0.9720 - val_loss: 1.4888 - val_accuracy: 0.7805\n",
      "Epoch 9/15\n",
      "215/215 [==============================] - 3s 13ms/step - loss: 0.4550 - accuracy: 0.9743 - val_loss: 1.5684 - val_accuracy: 0.7800\n",
      "Epoch 10/15\n",
      "215/215 [==============================] - 2s 11ms/step - loss: 0.4818 - accuracy: 0.9705 - val_loss: 1.6172 - val_accuracy: 0.7560\n",
      "Epoch 11/15\n",
      "215/215 [==============================] - 2s 11ms/step - loss: 0.4679 - accuracy: 0.9732 - val_loss: 1.8415 - val_accuracy: 0.7186\n",
      "Training DNN with learning rate: 0.001, optimizer: Nadam, num_layers: 3\n",
      "Epoch 1/15\n",
      "215/215 [==============================] - 7s 16ms/step - loss: 1.5676 - accuracy: 0.6073 - val_loss: 1.4739 - val_accuracy: 0.5920\n",
      "Epoch 2/15\n",
      "215/215 [==============================] - 2s 11ms/step - loss: 0.3117 - accuracy: 0.9603 - val_loss: 1.0664 - val_accuracy: 0.7593\n",
      "Epoch 3/15\n",
      "215/215 [==============================] - 3s 12ms/step - loss: 0.2133 - accuracy: 0.9872 - val_loss: 1.1365 - val_accuracy: 0.7646\n",
      "Epoch 4/15\n",
      "215/215 [==============================] - 4s 16ms/step - loss: 0.2117 - accuracy: 0.9858 - val_loss: 1.3724 - val_accuracy: 0.7256\n",
      "Epoch 5/15\n",
      "215/215 [==============================] - 6s 27ms/step - loss: 0.2074 - accuracy: 0.9863 - val_loss: 1.0731 - val_accuracy: 0.8001\n",
      "Epoch 6/15\n",
      "215/215 [==============================] - 3s 16ms/step - loss: 0.1948 - accuracy: 0.9890 - val_loss: 1.2646 - val_accuracy: 0.7635\n",
      "Epoch 7/15\n",
      "215/215 [==============================] - 3s 12ms/step - loss: 0.1863 - accuracy: 0.9911 - val_loss: 1.1404 - val_accuracy: 0.7909\n",
      "Training DNN with learning rate: 0.001, optimizer: Nadam, num_layers: 6\n",
      "Epoch 1/15\n",
      "215/215 [==============================] - 6s 13ms/step - loss: 1.6000 - accuracy: 0.5926 - val_loss: 1.4597 - val_accuracy: 0.6241\n",
      "Epoch 2/15\n",
      "215/215 [==============================] - 2s 12ms/step - loss: 0.3206 - accuracy: 0.9568 - val_loss: 1.0619 - val_accuracy: 0.7457\n",
      "Epoch 3/15\n",
      "215/215 [==============================] - 3s 13ms/step - loss: 0.2299 - accuracy: 0.9823 - val_loss: 1.1511 - val_accuracy: 0.7532\n",
      "Epoch 4/15\n",
      "215/215 [==============================] - 3s 13ms/step - loss: 0.2050 - accuracy: 0.9874 - val_loss: 1.0879 - val_accuracy: 0.7895\n",
      "Epoch 5/15\n",
      "215/215 [==============================] - 2s 11ms/step - loss: 0.2052 - accuracy: 0.9871 - val_loss: 1.2320 - val_accuracy: 0.7764\n",
      "Epoch 6/15\n",
      "215/215 [==============================] - 2s 11ms/step - loss: 0.1897 - accuracy: 0.9905 - val_loss: 1.3502 - val_accuracy: 0.7672\n",
      "Epoch 7/15\n",
      "215/215 [==============================] - 2s 12ms/step - loss: 0.1845 - accuracy: 0.9921 - val_loss: 1.4468 - val_accuracy: 0.7669\n"
     ]
    }
   ],
   "source": [
    "# Perform hyperparameter search for DNN model\n",
    "dnn_results = perform_hyperparameter_search(\"DNN\", model_dense_factory, X_train, full_train_labels, X_val, y_val, learning_rates, optimizer_classes, hiddensizes, num_layers_list)"
   ]
  },
  {
   "cell_type": "code",
   "execution_count": null,
   "metadata": {
    "colab": {
     "base_uri": "https://localhost:8080/"
    },
    "id": "VTooZlyyYRB1",
    "outputId": "4894b74f-a563-42d5-f594-a92fed3df9c7"
   },
   "outputs": [
    {
     "name": "stdout",
     "output_type": "stream",
     "text": [
      "[DNN] Best Validation Accuracy: 0.8061907291412354\n",
      "Best Hyperparameters: LR=0.01_Opt=Nadam_Layers=6\n",
      "\n",
      "[DNN] Second Best Validation Accuracy: 0.8000558018684387\n",
      "Second Best Hyperparameters: LR=0.001_Opt=Nadam_Layers=3\n"
     ]
    }
   ],
   "source": [
    "def find_best_and_second_best_hyperparameters(results):\n",
    "    \"\"\"\n",
    "    Find the best and second best hyperparameters from the results.\n",
    "\n",
    "    Parameters:\n",
    "    - results: Dictionary of hyperparameter search results.\n",
    "\n",
    "    Returns:\n",
    "    - Best and second best hyperparameter keys and corresponding validation accuracies.\n",
    "    \"\"\"\n",
    "    # Sort the results based on 'max_val_acc' from the inner dictionary\n",
    "    sorted_results = sorted(results.items(), key=lambda x: x[1]['max_val_acc'], reverse=True)\n",
    "\n",
    "    # Get the best and second best hyperparameter keys and validation accuracies\n",
    "    best_key, best_metrics = sorted_results[0]\n",
    "    second_best_key, second_best_metrics = sorted_results[1]\n",
    "\n",
    "    return best_key, best_metrics['max_val_acc'], second_best_key, second_best_metrics['max_val_acc']\n",
    "\n",
    "# Find the best and second best hyperparameters for DNN\n",
    "best_hyperparams_dnn, best_acc_dnn, second_best_hyperparams_dnn, second_best_acc_dnn = find_best_and_second_best_hyperparameters(dnn_results)\n",
    "\n",
    "# Print the best and second best hyperparameters and validation accuracies for DNN\n",
    "print(\"[DNN] Best Validation Accuracy:\", best_acc_dnn)\n",
    "print(f\"Best Hyperparameters: {best_hyperparams_dnn}\")\n",
    "print(\"\\n[DNN] Second Best Validation Accuracy:\", second_best_acc_dnn)\n",
    "print(f\"Second Best Hyperparameters: {second_best_hyperparams_dnn}\")"
   ]
  },
  {
   "cell_type": "code",
   "execution_count": null,
   "metadata": {
    "id": "7ZF2ySmq3rPX"
   },
   "outputs": [],
   "source": [
    "def find_top_hyperparameters(results, num_top_models=2):\n",
    "    # Sort the results based on 'max_val_acc' from the inner dictionary\n",
    "    sorted_results = sorted(results.items(), key=lambda x: x[1]['max_val_acc'], reverse=True)\n",
    "\n",
    "    top_models = []\n",
    "\n",
    "    # Keep track of the highest accuracy among top models\n",
    "    highest_accuracy = sorted_results[0][1]['max_val_acc']\n",
    "\n",
    "    for key, metrics in sorted_results:\n",
    "        if len(top_models) >= num_top_models:\n",
    "            break\n",
    "\n",
    "        if metrics['max_val_acc'] == highest_accuracy:\n",
    "            top_models.append((key, metrics))\n",
    "        else:\n",
    "            # Stop if the accuracy drops below the highest accuracy\n",
    "            break\n",
    "\n",
    "    return top_models"
   ]
  },
  {
   "cell_type": "code",
   "execution_count": null,
   "metadata": {
    "id": "qPLV4Y4a36mJ"
   },
   "outputs": [],
   "source": [
    "# Extract hyperparameters from the best key\n",
    "def extract_hyperparameters_from_key(key):\n",
    "    \"\"\"\n",
    "    Extract hyperparameters from the given key.\n",
    "\n",
    "    Parameters:\n",
    "    - key: Hyperparameter key from the results.\n",
    "\n",
    "    Returns:\n",
    "    - Learning rate, optimizer class, and number of layers.\n",
    "    \"\"\"\n",
    "    # Split the key into parts using underscore\n",
    "    parts = key.split(\"_\")\n",
    "\n",
    "    # Extract learning rate from the first part\n",
    "    lr = float(parts[0].split(\"=\")[1])\n",
    "\n",
    "    # Extract optimizer name from the second part\n",
    "    optimizer_name = parts[1].split(\"=\")[1]\n",
    "\n",
    "    # Extract number of layers from the third part\n",
    "    num_layers = int(parts[2].split(\"=\")[1])\n",
    "\n",
    "    optimizer_class = None\n",
    "    # Find the corresponding optimizer class based on the optimizer name\n",
    "    for optimizer in optimizer_classes:\n",
    "        if optimizer.__name__ == optimizer_name:\n",
    "            optimizer_class = optimizer\n",
    "            break\n",
    "\n",
    "    # Raise an error if optimizer class is not found\n",
    "    if not optimizer_class:\n",
    "        raise ValueError(f\"Unknown optimizer: {optimizer_name}\")\n",
    "\n",
    "    return lr, optimizer_class, num_layers"
   ]
  },
  {
   "cell_type": "code",
   "execution_count": null,
   "metadata": {
    "id": "YbjHU-9gdFzV"
   },
   "outputs": [],
   "source": [
    "best_lr_dnn, best_optimizer_class_dnn, best_num_layers_dnn = extract_hyperparameters_from_key(best_hyperparams_dnn)"
   ]
  },
  {
   "cell_type": "code",
   "execution_count": null,
   "metadata": {
    "colab": {
     "base_uri": "https://localhost:8080/"
    },
    "id": "_5McjyVMYkvL",
    "outputId": "30392cff-da9f-4159-ff0e-cb9bf404c780"
   },
   "outputs": [
    {
     "name": "stdout",
     "output_type": "stream",
     "text": [
      "Epoch 1/15\n",
      "215/215 [==============================] - 4s 8ms/step - loss: 0.8739 - accuracy: 0.8053 - val_loss: 1.9731 - val_accuracy: 0.5962\n",
      "Epoch 2/15\n",
      "215/215 [==============================] - 1s 7ms/step - loss: 0.4420 - accuracy: 0.9486 - val_loss: 2.0762 - val_accuracy: 0.7030\n",
      "Epoch 3/15\n",
      "215/215 [==============================] - 2s 7ms/step - loss: 0.4171 - accuracy: 0.9632 - val_loss: 2.7306 - val_accuracy: 0.6670\n",
      "Epoch 4/15\n",
      "215/215 [==============================] - 2s 7ms/step - loss: 0.4704 - accuracy: 0.9634 - val_loss: 1.7827 - val_accuracy: 0.7920\n",
      "Epoch 5/15\n",
      "215/215 [==============================] - 2s 7ms/step - loss: 0.4356 - accuracy: 0.9671 - val_loss: 2.3336 - val_accuracy: 0.6905\n",
      "Epoch 6/15\n",
      "215/215 [==============================] - 2s 7ms/step - loss: 0.4250 - accuracy: 0.9724 - val_loss: 3.1961 - val_accuracy: 0.6729\n",
      "Epoch 7/15\n",
      "215/215 [==============================] - 2s 9ms/step - loss: 0.4425 - accuracy: 0.9676 - val_loss: 1.3385 - val_accuracy: 0.7942\n",
      "Epoch 8/15\n",
      "215/215 [==============================] - 2s 9ms/step - loss: 0.4054 - accuracy: 0.9731 - val_loss: 1.8968 - val_accuracy: 0.7331\n",
      "Epoch 9/15\n",
      "215/215 [==============================] - 2s 7ms/step - loss: 0.3845 - accuracy: 0.9771 - val_loss: 2.2550 - val_accuracy: 0.6896\n",
      "Epoch 10/15\n",
      "215/215 [==============================] - 2s 7ms/step - loss: 0.4084 - accuracy: 0.9693 - val_loss: 1.6480 - val_accuracy: 0.7830\n",
      "Epoch 11/15\n",
      "215/215 [==============================] - 2s 7ms/step - loss: 0.3571 - accuracy: 0.9798 - val_loss: 2.1341 - val_accuracy: 0.6919\n",
      "Epoch 12/15\n",
      "215/215 [==============================] - 2s 7ms/step - loss: 0.3819 - accuracy: 0.9727 - val_loss: 1.6722 - val_accuracy: 0.7680\n"
     ]
    }
   ],
   "source": [
    "# Train with the best hyperparameters\n",
    "_, best_history_dnn, best_model_dnn = do_all(\n",
    "    model_type=\"DNN\",\n",
    "    model_factory=model_dense_factory,\n",
    "    hiddensizes=hiddensizes,\n",
    "    actfn='elu',\n",
    "    X_train = X_train,\n",
    "    y_train = full_train_labels,\n",
    "    X_val = X_val,\n",
    "    y_val = y_val,\n",
    "    optimizer=best_optimizer_class_dnn,\n",
    "    learningrate=best_lr_dnn,\n",
    "    num_layers=best_num_layers_dnn,\n",
    "    n_train=len(X_train),\n",
    "    n_valid=len(X_val),\n",
    "    n_epochs=15,  # You can set this to a desired value\n",
    "    batch_size=128  # You can set this to a desired value\n",
    ")"
   ]
  },
  {
   "cell_type": "code",
   "execution_count": null,
   "metadata": {
    "colab": {
     "base_uri": "https://localhost:8080/",
     "height": 574
    },
    "id": "I7mnvQ8uTAnx",
    "outputId": "3ec54771-264d-4fab-b668-1349ddd42bbf"
   },
   "outputs": [
    {
     "data": {
      "image/png": "[encoded data removed]",
      "text/plain": [
       "<Figure size 1000x600 with 1 Axes>"
      ]
     },
     "metadata": {},
     "output_type": "display_data"
    }
   ],
   "source": [
    "plot_training_history(best_history_dnn, title=\"DNN  Best Training History\")"
   ]
  },
  {
   "cell_type": "markdown",
   "metadata": {
    "id": "Borla2bqwfEw"
   },
   "source": [
    "#### Analysis:\n",
    "The provided training log depicts the training progress of a neural network over 12 epochs. Here's an analysis of the training dynamics:\n",
    "\n",
    "1. **Initial Performance**: The training starts with a loss of 0.8739 and an accuracy of 80.53%. This indicates that the model's initial predictions are not very accurate, and its loss is relatively high.\n",
    "\n",
    "2. **Epochs 2-3**: The model rapidly improves, as evidenced by the substantial decrease in loss and significant increase in accuracy. By the end of the third epoch, both the training loss and accuracy have notably improved. Validation accuracy is also increasing, suggesting the model's generalization capability is improving.\n",
    "\n",
    "3. **Epochs 4-7**: The model continues to improve, with fluctuations in loss and accuracy. Notably, both training and validation accuracy are increasing, but there are instances where the validation loss increases, indicating some degree of overfitting.\n",
    "\n",
    "4. **Epochs 8-12**: The model's training loss remains relatively stable, and its accuracy is generally high. However, the validation accuracy seems to stabilize and fluctuate, suggesting that the model might be reaching a point where it's not substantially improving its generalization.\n",
    "\n",
    "In conclusion, the model's training shows signs of rapid improvement in the early epochs, with both loss and accuracy moving in a positive direction. The fluctuations in validation metrics in later epochs indicate that the model might be facing challenges in further improving its generalization performance. To determine the model's overall capability and stability, further evaluation and potentially early stopping strategies might be necessary."
   ]
  },
  {
   "cell_type": "code",
   "execution_count": null,
   "metadata": {
    "colab": {
     "base_uri": "https://localhost:8080/"
    },
    "id": "hDDsdKCzGgyA",
    "outputId": "655429e9-fda3-4df9-9c37-8c08c93a46a8"
   },
   "outputs": [
    {
     "name": "stdout",
     "output_type": "stream",
     "text": [
      "Training CNN with learning rate: 0.01, optimizer: Adagrad, num_layers: 3\n",
      "Epoch 1/15\n",
      "215/215 [==============================] - 5s 19ms/step - loss: 3.1739 - accuracy: 0.0670 - val_loss: 3.1456 - val_accuracy: 0.1026\n",
      "Epoch 2/15\n",
      "215/215 [==============================] - 4s 18ms/step - loss: 2.6714 - accuracy: 0.2129 - val_loss: 2.7052 - val_accuracy: 0.2273\n",
      "Epoch 3/15\n",
      "215/215 [==============================] - 4s 18ms/step - loss: 1.4329 - accuracy: 0.5455 - val_loss: 1.2782 - val_accuracy: 0.5708\n",
      "Epoch 4/15\n",
      "215/215 [==============================] - 4s 18ms/step - loss: 0.7103 - accuracy: 0.7722 - val_loss: 0.8446 - val_accuracy: 0.7100\n",
      "Epoch 5/15\n",
      "215/215 [==============================] - 4s 17ms/step - loss: 0.3816 - accuracy: 0.8803 - val_loss: 0.7111 - val_accuracy: 0.7599\n",
      "Epoch 6/15\n",
      "215/215 [==============================] - 4s 18ms/step - loss: 0.1875 - accuracy: 0.9489 - val_loss: 0.4085 - val_accuracy: 0.8575\n",
      "Epoch 7/15\n",
      "215/215 [==============================] - 4s 17ms/step - loss: 0.0942 - accuracy: 0.9806 - val_loss: 0.5017 - val_accuracy: 0.8374\n",
      "Epoch 8/15\n",
      "215/215 [==============================] - 4s 17ms/step - loss: 0.0559 - accuracy: 0.9914 - val_loss: 0.3819 - val_accuracy: 0.8809\n",
      "Epoch 9/15\n",
      "215/215 [==============================] - 4s 18ms/step - loss: 0.0259 - accuracy: 0.9981 - val_loss: 0.3530 - val_accuracy: 0.8901\n",
      "Epoch 10/15\n",
      "215/215 [==============================] - 4s 17ms/step - loss: 0.0164 - accuracy: 0.9994 - val_loss: 0.4321 - val_accuracy: 0.8798\n",
      "Epoch 11/15\n",
      "215/215 [==============================] - 4s 18ms/step - loss: 0.0112 - accuracy: 0.9998 - val_loss: 0.3877 - val_accuracy: 0.8854\n",
      "Epoch 12/15\n",
      "215/215 [==============================] - 4s 18ms/step - loss: 0.0083 - accuracy: 1.0000 - val_loss: 0.3830 - val_accuracy: 0.8851\n",
      "Epoch 13/15\n",
      "215/215 [==============================] - 4s 18ms/step - loss: 0.0066 - accuracy: 1.0000 - val_loss: 0.3793 - val_accuracy: 0.8887\n",
      "Epoch 14/15\n",
      "215/215 [==============================] - 4s 18ms/step - loss: 0.0055 - accuracy: 0.9999 - val_loss: 0.3967 - val_accuracy: 0.8929\n",
      "Training CNN with learning rate: 0.01, optimizer: Adagrad, num_layers: 6\n",
      "Epoch 1/15\n",
      "215/215 [==============================] - 4s 18ms/step - loss: 3.1810 - accuracy: 0.0603 - val_loss: 3.1236 - val_accuracy: 0.0669\n",
      "Epoch 2/15\n",
      "215/215 [==============================] - 4s 18ms/step - loss: 2.9046 - accuracy: 0.1521 - val_loss: 2.5080 - val_accuracy: 0.2476\n",
      "Epoch 3/15\n",
      "215/215 [==============================] - 4s 18ms/step - loss: 1.7755 - accuracy: 0.4497 - val_loss: 1.4369 - val_accuracy: 0.5382\n",
      "Epoch 4/15\n",
      "215/215 [==============================] - 4s 17ms/step - loss: 0.8940 - accuracy: 0.7116 - val_loss: 0.8424 - val_accuracy: 0.7206\n",
      "Epoch 5/15\n",
      "215/215 [==============================] - 4s 18ms/step - loss: 0.4575 - accuracy: 0.8575 - val_loss: 0.6002 - val_accuracy: 0.7755\n",
      "Epoch 6/15\n",
      "215/215 [==============================] - 4s 18ms/step - loss: 0.2363 - accuracy: 0.9316 - val_loss: 0.4754 - val_accuracy: 0.8494\n",
      "Epoch 7/15\n",
      "215/215 [==============================] - 4s 18ms/step - loss: 0.1055 - accuracy: 0.9774 - val_loss: 0.4943 - val_accuracy: 0.8352\n",
      "Epoch 8/15\n",
      "215/215 [==============================] - 4s 17ms/step - loss: 0.0488 - accuracy: 0.9945 - val_loss: 0.4566 - val_accuracy: 0.8555\n",
      "Epoch 9/15\n",
      "215/215 [==============================] - 4s 18ms/step - loss: 0.2996 - accuracy: 0.9560 - val_loss: 0.4828 - val_accuracy: 0.8394\n",
      "Epoch 10/15\n",
      "215/215 [==============================] - 4s 18ms/step - loss: 0.0969 - accuracy: 0.9862 - val_loss: 0.3986 - val_accuracy: 0.8924\n",
      "Epoch 11/15\n",
      "215/215 [==============================] - 4s 17ms/step - loss: 0.0305 - accuracy: 0.9988 - val_loss: 0.4699 - val_accuracy: 0.8500\n",
      "Epoch 12/15\n",
      "215/215 [==============================] - 4s 18ms/step - loss: 0.0170 - accuracy: 0.9997 - val_loss: 0.4063 - val_accuracy: 0.8767\n",
      "Epoch 13/15\n",
      "215/215 [==============================] - 4s 19ms/step - loss: 0.0114 - accuracy: 0.9999 - val_loss: 0.4017 - val_accuracy: 0.8832\n",
      "Epoch 14/15\n",
      "215/215 [==============================] - 4s 17ms/step - loss: 0.0084 - accuracy: 1.0000 - val_loss: 0.4361 - val_accuracy: 0.8762\n",
      "Epoch 15/15\n",
      "215/215 [==============================] - 4s 17ms/step - loss: 0.0067 - accuracy: 1.0000 - val_loss: 0.4353 - val_accuracy: 0.8781\n",
      "Training CNN with learning rate: 0.001, optimizer: Adagrad, num_layers: 3\n",
      "Epoch 1/15\n",
      "215/215 [==============================] - 5s 20ms/step - loss: 3.2367 - accuracy: 0.0389 - val_loss: 3.2249 - val_accuracy: 0.0538\n",
      "Epoch 2/15\n",
      "215/215 [==============================] - 4s 18ms/step - loss: 3.2082 - accuracy: 0.0596 - val_loss: 3.2086 - val_accuracy: 0.0519\n",
      "Epoch 3/15\n",
      "215/215 [==============================] - 4s 18ms/step - loss: 3.1842 - accuracy: 0.0741 - val_loss: 3.1985 - val_accuracy: 0.0346\n",
      "Epoch 4/15\n",
      "215/215 [==============================] - 4s 17ms/step - loss: 3.1666 - accuracy: 0.0703 - val_loss: 3.1854 - val_accuracy: 0.0323\n",
      "Epoch 5/15\n",
      "215/215 [==============================] - 4s 18ms/step - loss: 3.1517 - accuracy: 0.0911 - val_loss: 3.1722 - val_accuracy: 0.0416\n",
      "Epoch 6/15\n",
      "215/215 [==============================] - 4s 17ms/step - loss: 3.1353 - accuracy: 0.1073 - val_loss: 3.1534 - val_accuracy: 0.0987\n",
      "Epoch 7/15\n",
      "215/215 [==============================] - 4s 18ms/step - loss: 3.1139 - accuracy: 0.1427 - val_loss: 3.1281 - val_accuracy: 0.1012\n",
      "Epoch 8/15\n",
      "215/215 [==============================] - 4s 19ms/step - loss: 3.0814 - accuracy: 0.1636 - val_loss: 3.0933 - val_accuracy: 0.1263\n",
      "Epoch 9/15\n",
      "215/215 [==============================] - 4s 18ms/step - loss: 3.0261 - accuracy: 0.2016 - val_loss: 3.0334 - val_accuracy: 0.1721\n",
      "Epoch 10/15\n",
      "215/215 [==============================] - 4s 17ms/step - loss: 2.9316 - accuracy: 0.2346 - val_loss: 2.9053 - val_accuracy: 0.2019\n",
      "Epoch 11/15\n",
      "215/215 [==============================] - 4s 18ms/step - loss: 2.7766 - accuracy: 0.2682 - val_loss: 2.7334 - val_accuracy: 0.2315\n",
      "Epoch 12/15\n",
      "215/215 [==============================] - 4s 17ms/step - loss: 2.5811 - accuracy: 0.2961 - val_loss: 2.6130 - val_accuracy: 0.2175\n",
      "Epoch 13/15\n",
      "215/215 [==============================] - 4s 18ms/step - loss: 2.3912 - accuracy: 0.3339 - val_loss: 2.4560 - val_accuracy: 0.2223\n",
      "Epoch 14/15\n",
      "215/215 [==============================] - 4s 18ms/step - loss: 2.2020 - accuracy: 0.3707 - val_loss: 2.2664 - val_accuracy: 0.3040\n",
      "Epoch 15/15\n",
      "215/215 [==============================] - 4s 19ms/step - loss: 2.0363 - accuracy: 0.4115 - val_loss: 2.0467 - val_accuracy: 0.3921\n",
      "Training CNN with learning rate: 0.001, optimizer: Adagrad, num_layers: 6\n",
      "Epoch 1/15\n",
      "215/215 [==============================] - 4s 18ms/step - loss: 3.2398 - accuracy: 0.0472 - val_loss: 3.2412 - val_accuracy: 0.0421\n",
      "Epoch 2/15\n",
      "215/215 [==============================] - 4s 17ms/step - loss: 3.2150 - accuracy: 0.0505 - val_loss: 3.2295 - val_accuracy: 0.0480\n",
      "Epoch 3/15\n",
      "215/215 [==============================] - 5s 23ms/step - loss: 3.1936 - accuracy: 0.0588 - val_loss: 3.2158 - val_accuracy: 0.0446\n",
      "Epoch 4/15\n",
      "215/215 [==============================] - 4s 20ms/step - loss: 3.1756 - accuracy: 0.0574 - val_loss: 3.1986 - val_accuracy: 0.0533\n",
      "Epoch 5/15\n",
      "215/215 [==============================] - 4s 17ms/step - loss: 3.1599 - accuracy: 0.0889 - val_loss: 3.1821 - val_accuracy: 0.0421\n",
      "Epoch 6/15\n",
      "215/215 [==============================] - 4s 17ms/step - loss: 3.1443 - accuracy: 0.1016 - val_loss: 3.1577 - val_accuracy: 0.0948\n",
      "Epoch 7/15\n",
      "215/215 [==============================] - 4s 17ms/step - loss: 3.1269 - accuracy: 0.1409 - val_loss: 3.1422 - val_accuracy: 0.1065\n",
      "Epoch 8/15\n",
      "215/215 [==============================] - 4s 18ms/step - loss: 3.1031 - accuracy: 0.1612 - val_loss: 3.1124 - val_accuracy: 0.1464\n",
      "Epoch 9/15\n",
      "215/215 [==============================] - 4s 17ms/step - loss: 3.0664 - accuracy: 0.1924 - val_loss: 3.0714 - val_accuracy: 0.1751\n",
      "Epoch 10/15\n",
      "215/215 [==============================] - 4s 17ms/step - loss: 3.0052 - accuracy: 0.2121 - val_loss: 2.9876 - val_accuracy: 0.2139\n",
      "Epoch 11/15\n",
      "215/215 [==============================] - 4s 19ms/step - loss: 2.9049 - accuracy: 0.2346 - val_loss: 2.8676 - val_accuracy: 0.2248\n",
      "Epoch 12/15\n",
      "215/215 [==============================] - 4s 18ms/step - loss: 2.7508 - accuracy: 0.2554 - val_loss: 2.6984 - val_accuracy: 0.2356\n",
      "Epoch 13/15\n",
      "215/215 [==============================] - 4s 17ms/step - loss: 2.5657 - accuracy: 0.2865 - val_loss: 2.5483 - val_accuracy: 0.2632\n",
      "Epoch 14/15\n",
      "215/215 [==============================] - 4s 17ms/step - loss: 2.3788 - accuracy: 0.3300 - val_loss: 2.4486 - val_accuracy: 0.2914\n",
      "Epoch 15/15\n",
      "215/215 [==============================] - 4s 18ms/step - loss: 2.2051 - accuracy: 0.3670 - val_loss: 2.2672 - val_accuracy: 0.3327\n",
      "Training CNN with learning rate: 0.01, optimizer: Adam, num_layers: 3\n",
      "Epoch 1/15\n",
      "215/215 [==============================] - 4s 17ms/step - loss: 2.5736 - accuracy: 0.2829 - val_loss: 1.3115 - val_accuracy: 0.5834\n",
      "Epoch 2/15\n",
      "215/215 [==============================] - 3s 16ms/step - loss: 0.6566 - accuracy: 0.7739 - val_loss: 0.9769 - val_accuracy: 0.7022\n",
      "Epoch 3/15\n",
      "215/215 [==============================] - 4s 18ms/step - loss: 0.2422 - accuracy: 0.9167 - val_loss: 0.7163 - val_accuracy: 0.7984\n",
      "Epoch 4/15\n",
      "215/215 [==============================] - 4s 17ms/step - loss: 0.1273 - accuracy: 0.9546 - val_loss: 0.8714 - val_accuracy: 0.8146\n",
      "Epoch 5/15\n",
      "215/215 [==============================] - 4s 16ms/step - loss: 0.1174 - accuracy: 0.9612 - val_loss: 0.6921 - val_accuracy: 0.8480\n",
      "Epoch 6/15\n",
      "215/215 [==============================] - 4s 17ms/step - loss: 0.0662 - accuracy: 0.9804 - val_loss: 0.9363 - val_accuracy: 0.8176\n",
      "Epoch 7/15\n",
      "215/215 [==============================] - 4s 17ms/step - loss: 0.0645 - accuracy: 0.9798 - val_loss: 1.0087 - val_accuracy: 0.8318\n",
      "Epoch 8/15\n",
      "215/215 [==============================] - 4s 17ms/step - loss: 0.0714 - accuracy: 0.9786 - val_loss: 1.3902 - val_accuracy: 0.7663\n",
      "Epoch 9/15\n",
      "215/215 [==============================] - 4s 17ms/step - loss: 0.0598 - accuracy: 0.9834 - val_loss: 0.9917 - val_accuracy: 0.8363\n",
      "Epoch 10/15\n",
      "215/215 [==============================] - 4s 18ms/step - loss: 0.0732 - accuracy: 0.9783 - val_loss: 1.1226 - val_accuracy: 0.8179\n",
      "Training CNN with learning rate: 0.01, optimizer: Adam, num_layers: 6\n",
      "Epoch 1/15\n",
      "215/215 [==============================] - 5s 18ms/step - loss: 2.0928 - accuracy: 0.4305 - val_loss: 1.0179 - val_accuracy: 0.6341\n",
      "Epoch 2/15\n",
      "215/215 [==============================] - 4s 18ms/step - loss: 0.3377 - accuracy: 0.8854 - val_loss: 0.8428 - val_accuracy: 0.7766\n",
      "Epoch 3/15\n",
      "215/215 [==============================] - 4s 17ms/step - loss: 0.1081 - accuracy: 0.9635 - val_loss: 0.7627 - val_accuracy: 0.8151\n",
      "Epoch 4/15\n",
      "215/215 [==============================] - 4s 16ms/step - loss: 0.0674 - accuracy: 0.9778 - val_loss: 0.9593 - val_accuracy: 0.8129\n",
      "Epoch 5/15\n",
      "215/215 [==============================] - 3s 16ms/step - loss: 0.0782 - accuracy: 0.9745 - val_loss: 0.9578 - val_accuracy: 0.7950\n",
      "Epoch 6/15\n",
      "215/215 [==============================] - 4s 18ms/step - loss: 0.0276 - accuracy: 0.9915 - val_loss: 1.0720 - val_accuracy: 0.8316\n",
      "Epoch 7/15\n",
      "215/215 [==============================] - 4s 17ms/step - loss: 0.0470 - accuracy: 0.9856 - val_loss: 1.2509 - val_accuracy: 0.8087\n",
      "Epoch 8/15\n",
      "215/215 [==============================] - 4s 17ms/step - loss: 0.0513 - accuracy: 0.9846 - val_loss: 0.9114 - val_accuracy: 0.8516\n",
      "Training CNN with learning rate: 0.001, optimizer: Adam, num_layers: 3\n",
      "Epoch 1/15\n",
      "215/215 [==============================] - 5s 19ms/step - loss: 1.1099 - accuracy: 0.6675 - val_loss: 0.3220 - val_accuracy: 0.9018\n",
      "Epoch 2/15\n",
      "215/215 [==============================] - 4s 18ms/step - loss: 0.0298 - accuracy: 0.9944 - val_loss: 0.2365 - val_accuracy: 0.9325\n",
      "Epoch 3/15\n",
      "215/215 [==============================] - 4s 17ms/step - loss: 0.0108 - accuracy: 0.9973 - val_loss: 0.1550 - val_accuracy: 0.9520\n",
      "Epoch 4/15\n",
      "215/215 [==============================] - 4s 18ms/step - loss: 4.8914e-04 - accuracy: 1.0000 - val_loss: 0.1617 - val_accuracy: 0.9532\n",
      "Epoch 5/15\n",
      "215/215 [==============================] - 4s 18ms/step - loss: 2.5706e-04 - accuracy: 1.0000 - val_loss: 0.1748 - val_accuracy: 0.9490\n",
      "Epoch 6/15\n",
      "215/215 [==============================] - 4s 17ms/step - loss: 1.7456e-04 - accuracy: 1.0000 - val_loss: 0.1788 - val_accuracy: 0.9481\n",
      "Epoch 7/15\n",
      "215/215 [==============================] - 4s 17ms/step - loss: 1.2808e-04 - accuracy: 1.0000 - val_loss: 0.1746 - val_accuracy: 0.9498\n",
      "Epoch 8/15\n",
      "215/215 [==============================] - 4s 17ms/step - loss: 9.2647e-05 - accuracy: 1.0000 - val_loss: 0.1851 - val_accuracy: 0.9504\n",
      "Training CNN with learning rate: 0.001, optimizer: Adam, num_layers: 6\n",
      "Epoch 1/15\n",
      "215/215 [==============================] - 5s 20ms/step - loss: 1.0566 - accuracy: 0.6847 - val_loss: 0.2838 - val_accuracy: 0.9004\n",
      "Epoch 2/15\n",
      "215/215 [==============================] - 4s 18ms/step - loss: 0.0218 - accuracy: 0.9960 - val_loss: 0.2371 - val_accuracy: 0.9359\n",
      "Epoch 3/15\n",
      "215/215 [==============================] - 4s 17ms/step - loss: 0.0015 - accuracy: 1.0000 - val_loss: 0.2387 - val_accuracy: 0.9459\n",
      "Epoch 4/15\n",
      "215/215 [==============================] - 4s 18ms/step - loss: 5.9507e-04 - accuracy: 1.0000 - val_loss: 0.2493 - val_accuracy: 0.9406\n",
      "Epoch 5/15\n",
      "215/215 [==============================] - 4s 18ms/step - loss: 3.3320e-04 - accuracy: 1.0000 - val_loss: 0.2683 - val_accuracy: 0.9389\n",
      "Epoch 6/15\n",
      "215/215 [==============================] - 4s 18ms/step - loss: 2.1806e-04 - accuracy: 1.0000 - val_loss: 0.2683 - val_accuracy: 0.9434\n",
      "Epoch 7/15\n",
      "215/215 [==============================] - 4s 18ms/step - loss: 1.5120e-04 - accuracy: 1.0000 - val_loss: 0.2830 - val_accuracy: 0.9431\n",
      "Training CNN with learning rate: 0.01, optimizer: Nadam, num_layers: 3\n",
      "Epoch 1/15\n",
      "215/215 [==============================] - 6s 20ms/step - loss: 3.4768 - accuracy: 0.0562 - val_loss: 3.1862 - val_accuracy: 0.0811\n",
      "Epoch 2/15\n",
      "215/215 [==============================] - 4s 17ms/step - loss: 2.8416 - accuracy: 0.2195 - val_loss: 1.6712 - val_accuracy: 0.4827\n",
      "Epoch 3/15\n",
      "215/215 [==============================] - 4s 17ms/step - loss: 0.3947 - accuracy: 0.8684 - val_loss: 0.5181 - val_accuracy: 0.8653\n",
      "Epoch 4/15\n",
      "215/215 [==============================] - 4s 19ms/step - loss: 0.0432 - accuracy: 0.9893 - val_loss: 0.4578 - val_accuracy: 0.8846\n",
      "Epoch 5/15\n",
      "215/215 [==============================] - 4s 18ms/step - loss: 0.0066 - accuracy: 0.9986 - val_loss: 0.4843 - val_accuracy: 0.8988\n",
      "Epoch 6/15\n",
      "215/215 [==============================] - 4s 17ms/step - loss: 8.8972e-04 - accuracy: 1.0000 - val_loss: 0.4759 - val_accuracy: 0.9007\n",
      "Epoch 7/15\n",
      "215/215 [==============================] - 4s 18ms/step - loss: 4.7976e-04 - accuracy: 1.0000 - val_loss: 0.4865 - val_accuracy: 0.9027\n",
      "Epoch 8/15\n",
      "215/215 [==============================] - 4s 18ms/step - loss: 3.1240e-04 - accuracy: 1.0000 - val_loss: 0.5191 - val_accuracy: 0.9010\n",
      "Epoch 9/15\n",
      "215/215 [==============================] - 4s 17ms/step - loss: 2.3196e-04 - accuracy: 1.0000 - val_loss: 0.5214 - val_accuracy: 0.8999\n",
      "Training CNN with learning rate: 0.01, optimizer: Nadam, num_layers: 6\n",
      "Epoch 1/15\n",
      "215/215 [==============================] - 5s 19ms/step - loss: 2.6125 - accuracy: 0.2650 - val_loss: 1.6005 - val_accuracy: 0.4710\n",
      "Epoch 2/15\n",
      "215/215 [==============================] - 4s 19ms/step - loss: 0.7345 - accuracy: 0.7516 - val_loss: 0.9666 - val_accuracy: 0.7133\n",
      "Epoch 3/15\n",
      "215/215 [==============================] - 4s 19ms/step - loss: 0.2410 - accuracy: 0.9190 - val_loss: 1.1457 - val_accuracy: 0.7736\n",
      "Epoch 4/15\n",
      "215/215 [==============================] - 4s 18ms/step - loss: 0.0904 - accuracy: 0.9732 - val_loss: 1.2385 - val_accuracy: 0.7875\n",
      "Epoch 5/15\n",
      "215/215 [==============================] - 4s 19ms/step - loss: 4.9777 - accuracy: 0.5110 - val_loss: 1.2234 - val_accuracy: 0.6129\n",
      "Epoch 6/15\n",
      "215/215 [==============================] - 4s 18ms/step - loss: 0.6506 - accuracy: 0.8119 - val_loss: 0.9061 - val_accuracy: 0.7276\n",
      "Epoch 7/15\n",
      "215/215 [==============================] - 4s 18ms/step - loss: 0.2178 - accuracy: 0.9312 - val_loss: 1.2424 - val_accuracy: 0.7462\n",
      "Epoch 8/15\n",
      "215/215 [==============================] - 4s 18ms/step - loss: 0.1188 - accuracy: 0.9589 - val_loss: 2.2699 - val_accuracy: 0.6590\n",
      "Epoch 9/15\n",
      "215/215 [==============================] - 4s 18ms/step - loss: 0.0792 - accuracy: 0.9806 - val_loss: 1.0954 - val_accuracy: 0.7775\n",
      "Epoch 10/15\n",
      "215/215 [==============================] - 4s 17ms/step - loss: 0.0292 - accuracy: 0.9946 - val_loss: 1.3951 - val_accuracy: 0.7716\n",
      "Epoch 11/15\n",
      "215/215 [==============================] - 4s 18ms/step - loss: 0.0163 - accuracy: 0.9975 - val_loss: 1.3038 - val_accuracy: 0.7856\n",
      "Training CNN with learning rate: 0.001, optimizer: Nadam, num_layers: 3\n",
      "Epoch 1/15\n",
      "215/215 [==============================] - 5s 20ms/step - loss: 1.1022 - accuracy: 0.6653 - val_loss: 0.3563 - val_accuracy: 0.8787\n",
      "Epoch 2/15\n",
      "215/215 [==============================] - 4s 19ms/step - loss: 0.0201 - accuracy: 0.9971 - val_loss: 0.2554 - val_accuracy: 0.9373\n",
      "Epoch 3/15\n",
      "215/215 [==============================] - 4s 19ms/step - loss: 0.0013 - accuracy: 1.0000 - val_loss: 0.2767 - val_accuracy: 0.9406\n",
      "Epoch 4/15\n",
      "215/215 [==============================] - 4s 19ms/step - loss: 4.9548e-04 - accuracy: 1.0000 - val_loss: 0.2842 - val_accuracy: 0.9434\n",
      "Epoch 5/15\n",
      "215/215 [==============================] - 4s 18ms/step - loss: 2.5632e-04 - accuracy: 1.0000 - val_loss: 0.3002 - val_accuracy: 0.9439\n",
      "Epoch 6/15\n",
      "215/215 [==============================] - 4s 19ms/step - loss: 1.5843e-04 - accuracy: 1.0000 - val_loss: 0.3094 - val_accuracy: 0.9439\n",
      "Epoch 7/15\n",
      "215/215 [==============================] - 4s 20ms/step - loss: 1.0654e-04 - accuracy: 1.0000 - val_loss: 0.3113 - val_accuracy: 0.9431\n",
      "Training CNN with learning rate: 0.001, optimizer: Nadam, num_layers: 6\n",
      "Epoch 1/15\n",
      "215/215 [==============================] - 5s 20ms/step - loss: 0.9692 - accuracy: 0.7075 - val_loss: 0.2204 - val_accuracy: 0.9239\n",
      "Epoch 2/15\n",
      "215/215 [==============================] - 4s 19ms/step - loss: 0.0124 - accuracy: 0.9983 - val_loss: 0.1988 - val_accuracy: 0.9484\n",
      "Epoch 3/15\n",
      "215/215 [==============================] - 4s 19ms/step - loss: 9.9834e-04 - accuracy: 1.0000 - val_loss: 0.2051 - val_accuracy: 0.9492\n",
      "Epoch 4/15\n",
      "215/215 [==============================] - 4s 18ms/step - loss: 4.2270e-04 - accuracy: 1.0000 - val_loss: 0.2103 - val_accuracy: 0.9470\n",
      "Epoch 5/15\n",
      "215/215 [==============================] - 4s 18ms/step - loss: 2.4993e-04 - accuracy: 1.0000 - val_loss: 0.2162 - val_accuracy: 0.9484\n",
      "Epoch 6/15\n",
      "215/215 [==============================] - 4s 19ms/step - loss: 1.5992e-04 - accuracy: 1.0000 - val_loss: 0.2305 - val_accuracy: 0.9479\n",
      "Epoch 7/15\n",
      "215/215 [==============================] - 4s 19ms/step - loss: 1.1231e-04 - accuracy: 1.0000 - val_loss: 0.2340 - val_accuracy: 0.9487\n"
     ]
    }
   ],
   "source": [
    "hiddensizes = [256,128,256]\n",
    "cnn_results = perform_hyperparameter_search(\"CNN\", model_cnn_factory, X_train, full_train_labels, X_val, y_val, learning_rates, optimizer_classes, hiddensizes, num_layers_list)"
   ]
  },
  {
   "cell_type": "code",
   "execution_count": null,
   "metadata": {
    "colab": {
     "base_uri": "https://localhost:8080/"
    },
    "id": "vlml0Oi0Izyh",
    "outputId": "d507d24d-fdf0-461d-8883-5d983d5c1e00"
   },
   "outputs": [
    {
     "name": "stdout",
     "output_type": "stream",
     "text": [
      "[CNN] Best Validation Accuracy: 0.9531511664390564\n",
      "Best Hyperparameters for CNN: LR=0.001_Opt=Adam_Layers=3\n",
      "\n",
      "[CNN] Second Best Validation Accuracy: 0.9492470622062683\n",
      "Second Best Hyperparameters for CNN: LR=0.001_Opt=Nadam_Layers=6\n"
     ]
    }
   ],
   "source": [
    "# For CNN:\n",
    "best_hyperparams_cnn, best_acc_cnn, second_best_hyperparams_cnn, second_best_acc_cnn = find_best_and_second_best_hyperparameters(cnn_results)\n",
    "print(\"[CNN] Best Validation Accuracy:\", best_acc_cnn)\n",
    "print(f\"Best Hyperparameters for CNN: {best_hyperparams_cnn}\")\n",
    "print(\"\\n[CNN] Second Best Validation Accuracy:\", second_best_acc_cnn)\n",
    "print(f\"Second Best Hyperparameters for CNN: {second_best_hyperparams_cnn}\")"
   ]
  },
  {
   "cell_type": "code",
   "execution_count": null,
   "metadata": {
    "colab": {
     "base_uri": "https://localhost:8080/"
    },
    "id": "2dcsbmH--ZnM",
    "outputId": "4b71f0c8-2331-47db-90ab-d9e58de64de8"
   },
   "outputs": [
    {
     "name": "stdout",
     "output_type": "stream",
     "text": [
      "Epoch 1/15\n",
      "215/215 [==============================] - 6s 23ms/step - loss: 0.6233 - accuracy: 0.8116 - val_loss: 0.2680 - val_accuracy: 0.9222\n",
      "Epoch 2/15\n",
      "215/215 [==============================] - 4s 20ms/step - loss: 0.0037 - accuracy: 1.0000 - val_loss: 0.2437 - val_accuracy: 0.9373\n",
      "Epoch 3/15\n",
      "215/215 [==============================] - 4s 21ms/step - loss: 8.1153e-04 - accuracy: 1.0000 - val_loss: 0.2623 - val_accuracy: 0.9342\n",
      "Epoch 4/15\n",
      "215/215 [==============================] - 4s 21ms/step - loss: 3.7306e-04 - accuracy: 1.0000 - val_loss: 0.2619 - val_accuracy: 0.9356\n",
      "Epoch 5/15\n",
      "215/215 [==============================] - 4s 20ms/step - loss: 2.3128e-04 - accuracy: 1.0000 - val_loss: 0.2640 - val_accuracy: 0.9412\n",
      "Epoch 6/15\n",
      "215/215 [==============================] - 5s 21ms/step - loss: 1.4528e-04 - accuracy: 1.0000 - val_loss: 0.2659 - val_accuracy: 0.9417\n",
      "Epoch 7/15\n",
      "215/215 [==============================] - 5s 21ms/step - loss: 1.0470e-04 - accuracy: 1.0000 - val_loss: 0.2767 - val_accuracy: 0.9412\n"
     ]
    }
   ],
   "source": [
    "# Train with the best hyperparameters\n",
    "best_lr_cnn, best_optimizer_class_cnn, best_num_layers_cnn = extract_hyperparameters_from_key(best_hyperparams_cnn)\n",
    "_, best_history_cnn, best_model_cnn = do_all(\n",
    "    model_type=\"CNN\",\n",
    "    model_factory=model_cnn_factory,\n",
    "    hiddensizes=hiddensizes,\n",
    "    actfn='elu',\n",
    "    X_train = X_train,\n",
    "    y_train = full_train_labels,\n",
    "    X_val = X_val,\n",
    "    y_val = y_val,\n",
    "    optimizer=best_optimizer_class_cnn,\n",
    "    learningrate=best_lr_cnn,\n",
    "    num_layers=best_num_layers_cnn,\n",
    "    n_train=len(X_train),\n",
    "    n_valid=len(X_val),\n",
    "    n_epochs=15,  # You can set this to a desired value\n",
    "    batch_size=128  # You can set this to a desired value\n",
    ")"
   ]
  },
  {
   "cell_type": "code",
   "execution_count": null,
   "metadata": {
    "colab": {
     "base_uri": "https://localhost:8080/",
     "height": 574
    },
    "id": "sVyN6sssfQB_",
    "outputId": "f407bfaa-86a4-47f4-c560-f76c02464c67"
   },
   "outputs": [
    {
     "data": {
      "image/png": "[encoded data removed]",
      "text/plain": [
       "<Figure size 1000x600 with 1 Axes>"
      ]
     },
     "metadata": {},
     "output_type": "display_data"
    }
   ],
   "source": [
    "plot_training_history(best_history_cnn, title=\"CNN best Optimized Training History\")"
   ]
  },
  {
   "cell_type": "markdown",
   "metadata": {
    "id": "I3DUNnEjvgBp"
   },
   "source": [
    "#### Analysis     \n",
    "\n",
    "- **Accuracy Improvement:** The accuracy on the training set starts at around 81% and remarkably reaches 100% by the second epoch. This suggests that the model quickly learns to fit the training data very accurately.\n",
    "\n",
    "- **Validation Accuracy:** The validation accuracy, which measures the model's performance on unseen data, also shows consistent improvement. It starts at approximately 92% and rises to around 94% by the seventh epoch. This indicates that the model is generalizing well beyond the training data.\n",
    "\n",
    "- **Loss Reduction:** The loss, which signifies how well the model's predictions match the actual values, decreases substantially. This indicates that the model's predictions are becoming more accurate and are converging towards the target values.\n",
    "\n",
    "In conclusion, the best CNN neural network is learning rapidly and effectively. It achieves perfect accuracy on the training data and is showing consistent improvements in validation accuracy."
   ]
  },
  {
   "cell_type": "markdown",
   "metadata": {
    "id": "lfuFSbxL5W8N"
   },
   "source": [
    "### Statistical Test"
   ]
  },
  {
   "cell_type": "code",
   "execution_count": null,
   "metadata": {
    "colab": {
     "base_uri": "https://localhost:8080/"
    },
    "id": "-i4hFUDV5WG4",
    "outputId": "4ee3693c-6c8c-491b-c22e-56ad1d448f10"
   },
   "outputs": [
    {
     "name": "stdout",
     "output_type": "stream",
     "text": [
      "113/113 [==============================] - 1s 4ms/step\n",
      "113/113 [==============================] - 0s 4ms/step\n",
      "The best model is: CNN\n"
     ]
    }
   ],
   "source": [
    "from sklearn.metrics import accuracy_score\n",
    "import numpy as np\n",
    "\n",
    "def permutation_test(y_true, model1_preds, model2_preds, n_permutations=1000, random_seed=None):\n",
    "    observed_diff = accuracy_score(y_true, model1_preds) - accuracy_score(y_true, model2_preds)\n",
    "\n",
    "    count = 0\n",
    "    np.random.seed(random_seed)\n",
    "\n",
    "    for _ in range(n_permutations):\n",
    "        permuted_preds = np.random.permutation(np.concatenate([model1_preds, model2_preds]))\n",
    "\n",
    "        perm_model1_preds = permuted_preds[:len(model1_preds)]\n",
    "        perm_model2_preds = permuted_preds[len(model1_preds):]\n",
    "\n",
    "        perm_diff = accuracy_score(y_true, perm_model1_preds) - accuracy_score(y_true, perm_model2_preds)\n",
    "\n",
    "        if perm_diff >= observed_diff:\n",
    "            count += 1\n",
    "\n",
    "    p_value = count / n_permutations\n",
    "    return p_value\n",
    "\n",
    "# Convert pandas Series to NumPy array using .values\n",
    "y_validation_array = y_val.values\n",
    "\n",
    "# Obtain model predictions using np.argmax\n",
    "dnn_validation_preds = np.argmax(best_model_dnn.predict(X_val), axis=-1)\n",
    "cnn_validation_preds = np.argmax(best_model_cnn.predict(X_val), axis=-1)\n",
    "\n",
    "# Perform permutation test\n",
    "p_value_validation = permutation_test(y_validation_array, cnn_validation_preds, dnn_validation_preds)\n",
    "\n",
    "# Set significance threshold (e.g., 0.05)\n",
    "significance_threshold = 0.05\n",
    "\n",
    "# Compare p-value with significance threshold\n",
    "if p_value_validation < significance_threshold:\n",
    "    best_model = \"CNN\" if accuracy_score(y_validation_array, cnn_validation_preds) > accuracy_score(y_validation_array, dnn_validation_preds) else \"DNN\"\n",
    "    print(\"The best model is:\", best_model)\n",
    "else:\n",
    "    print(\"No significant difference between models.\")"
   ]
  },
  {
   "cell_type": "markdown",
   "metadata": {
    "id": "f15djZ6juyiW"
   },
   "source": [
    "Best Model using statistical t-test is CNN which represents there is a significant difference between CNN and DNN Model"
   ]
  },
  {
   "cell_type": "markdown",
   "metadata": {
    "id": "K3L9Atbbah0e"
   },
   "source": [
    "#### Evaluation of Test Performance for the CNN model"
   ]
  },
  {
   "cell_type": "code",
   "execution_count": null,
   "metadata": {
    "colab": {
     "base_uri": "https://localhost:8080/"
    },
    "id": "79rpMfX293gk",
    "outputId": "4ee7d9cc-d6dc-479d-8dff-8eb512a9f669"
   },
   "outputs": [
    {
     "name": "stdout",
     "output_type": "stream",
     "text": [
      "225/225 [==============================] - 1s 6ms/step - loss: 0.2465 - accuracy: 0.9361\n"
     ]
    },
    {
     "data": {
      "text/plain": [
       "0.9361405372619629"
      ]
     },
     "execution_count": 90,
     "metadata": {},
     "output_type": "execute_result"
    }
   ],
   "source": [
    "test_accuracy = best_model_cnn.evaluate(test_data_normalized, full_test_labels)[1]\n",
    "test_accuracy"
   ]
  },
  {
   "cell_type": "markdown",
   "metadata": {
    "id": "3jXeNwiStx9M"
   },
   "source": [
    "Test accuracy is 0.936 and Validation accuracy is 0.954 which indicates model is not overfitting andgeneralising well to unseen data."
   ]
  },
  {
   "cell_type": "markdown",
   "metadata": {
    "id": "iP5sCwyvRa00"
   },
   "source": [
    "#### Accuracy for each alphabet"
   ]
  },
  {
   "cell_type": "code",
   "execution_count": null,
   "metadata": {
    "colab": {
     "base_uri": "https://localhost:8080/"
    },
    "id": "mQlsa3Kv_UFn",
    "outputId": "8ef7327c-042b-4cbb-d380-d2af7c6eae01"
   },
   "outputs": [
    {
     "name": "stdout",
     "output_type": "stream",
     "text": [
      "225/225 [==============================] - 1s 5ms/step\n",
      "Value: a, Accuracy: 1.00\n",
      "Value: b, Accuracy: 1.00\n",
      "Value: c, Accuracy: 1.00\n",
      "Value: d, Accuracy: 0.84\n",
      "Value: e, Accuracy: 1.00\n",
      "Value: f, Accuracy: 1.00\n",
      "Value: g, Accuracy: 0.95\n",
      "Value: h, Accuracy: 0.93\n",
      "Value: i, Accuracy: 0.85\n",
      "Value: j, Accuracy: 0.00\n",
      "Value: k, Accuracy: 0.94\n",
      "Value: l, Accuracy: 1.00\n",
      "Value: m, Accuracy: 0.99\n",
      "Value: n, Accuracy: 0.83\n",
      "Value: o, Accuracy: 0.91\n",
      "Value: p, Accuracy: 1.00\n",
      "Value: q, Accuracy: 0.99\n",
      "Value: r, Accuracy: 0.85\n",
      "Value: s, Accuracy: 0.94\n",
      "Value: t, Accuracy: 0.52\n",
      "Value: u, Accuracy: 0.95\n",
      "Value: v, Accuracy: 0.99\n",
      "Value: w, Accuracy: 1.00\n",
      "Value: x, Accuracy: 0.93\n",
      "Value: y, Accuracy: 0.88\n",
      "Value: z, Accuracy: 0.00\n"
     ]
    }
   ],
   "source": [
    "def calculate_accuracy_per_value(y_test, y_pred):\n",
    "    import numpy as np\n",
    "\n",
    "    accuracy_per_value = {}\n",
    "    for value in range(26):\n",
    "        total_occurrences = np.sum(y_test == value)\n",
    "        correct_predictions = np.sum((y_test == value) & (y_pred == value))\n",
    "\n",
    "        if total_occurrences > 0:\n",
    "            accuracy_per_value[value] = correct_predictions / total_occurrences\n",
    "        else:\n",
    "            accuracy_per_value[value] = 0.0\n",
    "\n",
    "    class_alphabets = \"abcdefghijklmnopqrstuvwxyz\"\n",
    "\n",
    "    for value, accuracy in accuracy_per_value.items():\n",
    "        print(f\"Value: {class_alphabets[value]}, Accuracy: {accuracy:.2f}\")\n",
    "\n",
    "# Example usage\n",
    "y_pred = np.argmax(best_model_cnn.predict(test_data_normalized), axis=-1)\n",
    "calculate_accuracy_per_value(full_test_labels, y_pred)"
   ]
  },
  {
   "cell_type": "markdown",
   "metadata": {
    "id": "fhpmJS7xtUjO"
   },
   "source": [
    "- Letter a, b, c, e, f, p, w are predicted more accurately\n",
    "- Letter t, r are predicted with least accuracy"
   ]
  },
  {
   "cell_type": "markdown",
   "metadata": {
    "id": "W46oHSeYRZCE"
   },
   "source": [
    "#### Recommendations and Targeted Enhancement\n",
    "\n",
    "While the achieved enhancement in overall accuracy from the initial 80% baseline to an impressive 95.3% through hyperparameter tuning is commendable, there remain opportunities to further elevate model performance. Here, I present strategies for consideration:\n",
    "\n",
    "**i) Adding More Dense Layers:**\n",
    "Expanding the network's depth with additional dense layers offers the potential to capture intricate data patterns. However, the complexity introduced must be balanced against the risk of overfitting.\n",
    "\n",
    "**ii) Optimal Initialization:**\n",
    "The choice of initialization method can notably impact training speed and convergence. Exploring techniques like Xavier/Glorot or He initialization could expedite convergence and enhance accuracy.\n",
    "\n",
    "**iii) Enriching Convolution Layers:**\n",
    "Increasing the depth of convolutional layers can enable the model to capture intricate hierarchical features. A cautious approach is required to prevent overfitting.\n",
    "\n",
    "**iv) Data Augmentation:**\n",
    "Artificially enlarging the training dataset via data augmentation, encompassing diverse transformations, can enhance model robustness and generalize its performance.\n",
    "\n",
    "**v) Enhanced Regularization:**\n",
    "Further exploration of techniques like dropout, L1/L2 regularization, and early stopping can enhance generalization and curb overfitting.\n",
    "\n",
    "**vi) Learning Rate Adaptation:**\n",
    "Implementing a learning rate schedule, which dynamically adjusts as training progresses, can ensure more stable training and potential convergence improvements.\n",
    "\n",
    "**vii) Comprehensive Hyperparameter Search:**\n",
    "Conducting a thorough hyperparameter search, potentially through methods like grid search or random search, might reveal combinations that yield even higher accuracy.\n",
    "\n",
    "**viii) Synergy of Ensembling and Transfer Learning:**\n",
    "Combining multiple models or integrating transfer learning via pre-trained models can substantially amplify performance by leveraging knowledge from related domains.\n",
    "\n",
    "It's pivotal to acknowledge that while these strategies possess potential for further advancement, each warrants meticulous experimentation. Rigorous testing and validation are essential to pinpoint the most impactful enhancements tailored to your specific task and dataset.\n",
    "\n",
    "However, it's noteworthy that individual letter accuracies surpassing 96% mark a significant achievement. Focusing on refining predictions for specific letters like 't' and 'y' has the potential to lift overall accuracy, underlining the importance of targeted improvements. This tailored approach acknowledges the distinctive characteristics of certain letters, facilitating substantial performance uplift."
   ]
  }
 ],
 "metadata": {
  "accelerator": "GPU",
  "colab": {
   "gpuType": "T4",
   "provenance": []
  },
  "kernelspec": {
   "display_name": "Python 3 (ipykernel)",
   "language": "python",
   "name": "python3"
  },
  "language_info": {
   "codemirror_mode": {
    "name": "ipython",
    "version": 3
   },
   "file_extension": ".py",
   "mimetype": "text/x-python",
   "name": "python",
   "nbconvert_exporter": "python",
   "pygments_lexer": "ipython3",
   "version": "3.9.13"
  },
  "toc": {
   "base_numbering": 1,
   "nav_menu": {},
   "number_sections": true,
   "sideBar": true,
   "skip_h1_title": false,
   "title_cell": "Table of Contents",
   "title_sidebar": "Contents",
   "toc_cell": false,
   "toc_position": {},
   "toc_section_display": true,
   "toc_window_display": false
  }
 },
 "nbformat": 4,
 "nbformat_minor": 1
}
